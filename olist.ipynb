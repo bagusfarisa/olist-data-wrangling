{
 "cells": [
  {
   "cell_type": "code",
   "execution_count": 626,
   "metadata": {},
   "outputs": [],
   "source": [
    "import sqlite3 as db\n",
    "import pandas as pd\n",
    "import seaborn as sns\n",
    "import numpy as np\n",
    "import sys\n",
    "from nltk.metrics import edit_distance\n",
    "from fuzzywuzzy import fuzz\n",
    "\n"
   ]
  },
  {
   "cell_type": "code",
   "execution_count": 627,
   "metadata": {},
   "outputs": [],
   "source": [
    "np.set_printoptions(threshold=sys.maxsize) # to show the full list of array"
   ]
  },
  {
   "cell_type": "code",
   "execution_count": 628,
   "metadata": {},
   "outputs": [],
   "source": [
    "#connect to database or create if doesn't exist\n",
    "'''\n",
    "File untuk setiap akun google bisa jadi berbeda jadi gunakan copy path untuk mempermudah\n",
    "\n",
    "'''\n",
    "conn = db.connect('olist.db')"
   ]
  },
  {
   "cell_type": "code",
   "execution_count": 629,
   "metadata": {},
   "outputs": [],
   "source": [
    "#Perform SQL query and return pandas data frame\n",
    "df_geolocation = pd.read_sql_query (\n",
    "\"\"\"\n",
    "SELECT * \n",
    "FROM olist_geolocation_dataset;\n",
    "\"\"\" ,conn)\n",
    "\n",
    "df_order_customer = pd.read_sql_query (\n",
    "\"\"\"\n",
    "SELECT * \n",
    "FROM olist_order_customer_dataset;\n",
    "\"\"\" ,conn)\n",
    "\n",
    "df_order = pd.read_sql_query (\n",
    "\"\"\"\n",
    "SELECT * \n",
    "FROM olist_order_dataset;\n",
    "\"\"\" ,conn)\n",
    "\n",
    "df_order_items = pd.read_sql_query (\n",
    "\"\"\"\n",
    "SELECT * \n",
    "FROM olist_order_items_dataset;\n",
    "\"\"\" ,conn)\n",
    "\n",
    "df_order_payments = pd.read_sql_query (\n",
    "\"\"\"\n",
    "SELECT * \n",
    "FROM olist_order_payments_dataset;\n",
    "\"\"\" ,conn)\n",
    "\n",
    "df_order_reviews = pd.read_sql_query (\n",
    "\"\"\"\n",
    "SELECT * \n",
    "FROM olist_order_reviews_dataset;\n",
    "\"\"\" ,conn)\n",
    "\n",
    "df_products = pd.read_sql_query (\n",
    "\"\"\"\n",
    "SELECT * \n",
    "FROM olist_products_dataset;\n",
    "\"\"\" ,conn)\n",
    "\n",
    "df_sellers = pd.read_sql_query (\n",
    "\"\"\"\n",
    "SELECT * \n",
    "FROM olist_sellers_dataset;\n",
    "\"\"\" ,conn)\n",
    "\n",
    "df_product_cat_name_transl = pd.read_sql_query (\n",
    "\"\"\"\n",
    "SELECT * \n",
    "FROM product_category_name_translation;\n",
    "\"\"\" ,conn)"
   ]
  },
  {
   "cell_type": "code",
   "execution_count": 630,
   "metadata": {},
   "outputs": [
    {
     "data": {
      "text/html": [
       "<div>\n",
       "<style scoped>\n",
       "    .dataframe tbody tr th:only-of-type {\n",
       "        vertical-align: middle;\n",
       "    }\n",
       "\n",
       "    .dataframe tbody tr th {\n",
       "        vertical-align: top;\n",
       "    }\n",
       "\n",
       "    .dataframe thead th {\n",
       "        text-align: right;\n",
       "    }\n",
       "</style>\n",
       "<table border=\"1\" class=\"dataframe\">\n",
       "  <thead>\n",
       "    <tr style=\"text-align: right;\">\n",
       "      <th></th>\n",
       "      <th>index</th>\n",
       "      <th>product_category_name</th>\n",
       "      <th>product_category_name_english</th>\n",
       "    </tr>\n",
       "  </thead>\n",
       "  <tbody>\n",
       "    <tr>\n",
       "      <th>0</th>\n",
       "      <td>0</td>\n",
       "      <td>beleza_saude</td>\n",
       "      <td>health_beauty</td>\n",
       "    </tr>\n",
       "    <tr>\n",
       "      <th>1</th>\n",
       "      <td>1</td>\n",
       "      <td>informatica_acessorios</td>\n",
       "      <td>computers_accessories</td>\n",
       "    </tr>\n",
       "    <tr>\n",
       "      <th>2</th>\n",
       "      <td>2</td>\n",
       "      <td>automotivo</td>\n",
       "      <td>auto</td>\n",
       "    </tr>\n",
       "    <tr>\n",
       "      <th>3</th>\n",
       "      <td>3</td>\n",
       "      <td>cama_mesa_banho</td>\n",
       "      <td>bed_bath_table</td>\n",
       "    </tr>\n",
       "    <tr>\n",
       "      <th>4</th>\n",
       "      <td>4</td>\n",
       "      <td>moveis_decoracao</td>\n",
       "      <td>furniture_decor</td>\n",
       "    </tr>\n",
       "  </tbody>\n",
       "</table>\n",
       "</div>"
      ],
      "text/plain": [
       "   index   product_category_name product_category_name_english\n",
       "0      0            beleza_saude                 health_beauty\n",
       "1      1  informatica_acessorios         computers_accessories\n",
       "2      2              automotivo                          auto\n",
       "3      3         cama_mesa_banho                bed_bath_table\n",
       "4      4        moveis_decoracao               furniture_decor"
      ]
     },
     "execution_count": 630,
     "metadata": {},
     "output_type": "execute_result"
    }
   ],
   "source": [
    "df_product_cat_name_transl.head()"
   ]
  },
  {
   "attachments": {},
   "cell_type": "markdown",
   "metadata": {},
   "source": [
    "# 1. Handling Mismatched Datetime Data Type"
   ]
  },
  {
   "attachments": {},
   "cell_type": "markdown",
   "metadata": {},
   "source": [
    "## 1.A. Identifying the mismatch"
   ]
  },
  {
   "cell_type": "code",
   "execution_count": 631,
   "metadata": {},
   "outputs": [
    {
     "data": {
      "text/plain": [
       "index                            int64\n",
       "geolocation_zip_code_prefix      int64\n",
       "geolocation_lat                float64\n",
       "geolocation_lng                float64\n",
       "geolocation_city                object\n",
       "geolocation_state               object\n",
       "dtype: object"
      ]
     },
     "execution_count": 631,
     "metadata": {},
     "output_type": "execute_result"
    }
   ],
   "source": [
    "df_geolocation.dtypes # all good"
   ]
  },
  {
   "cell_type": "code",
   "execution_count": 632,
   "metadata": {},
   "outputs": [
    {
     "data": {
      "text/plain": [
       "index                        int64\n",
       "customer_id                 object\n",
       "customer_unique_id          object\n",
       "customer_zip_code_prefix     int64\n",
       "customer_city               object\n",
       "customer_state              object\n",
       "dtype: object"
      ]
     },
     "execution_count": 632,
     "metadata": {},
     "output_type": "execute_result"
    }
   ],
   "source": [
    "df_order_customer.dtypes # all good"
   ]
  },
  {
   "cell_type": "code",
   "execution_count": 633,
   "metadata": {},
   "outputs": [
    {
     "data": {
      "text/plain": [
       "index                             int64\n",
       "order_id                         object\n",
       "customer_id                      object\n",
       "order_status                     object\n",
       "order_purchase_timestamp         object\n",
       "order_approved_at                object\n",
       "order_delivered_carrier_date     object\n",
       "order_delivered_customer_date    object\n",
       "order_estimated_delivery_date    object\n",
       "dtype: object"
      ]
     },
     "execution_count": 633,
     "metadata": {},
     "output_type": "execute_result"
    }
   ],
   "source": [
    "df_order.dtypes # several variables' data type need to be changed "
   ]
  },
  {
   "cell_type": "code",
   "execution_count": 634,
   "metadata": {},
   "outputs": [
    {
     "data": {
      "text/plain": [
       "index                    int64\n",
       "order_id                object\n",
       "order_item_id            int64\n",
       "product_id              object\n",
       "seller_id               object\n",
       "shipping_limit_date     object\n",
       "price                  float64\n",
       "freight_value          float64\n",
       "dtype: object"
      ]
     },
     "execution_count": 634,
     "metadata": {},
     "output_type": "execute_result"
    }
   ],
   "source": [
    "df_order_items.dtypes # shipping_limit_date data type need to be changed"
   ]
  },
  {
   "cell_type": "code",
   "execution_count": 635,
   "metadata": {},
   "outputs": [
    {
     "data": {
      "text/plain": [
       "index                     int64\n",
       "order_id                 object\n",
       "payment_sequential        int64\n",
       "payment_type             object\n",
       "payment_installments      int64\n",
       "payment_value           float64\n",
       "dtype: object"
      ]
     },
     "execution_count": 635,
     "metadata": {},
     "output_type": "execute_result"
    }
   ],
   "source": [
    "df_order_payments.dtypes # all good"
   ]
  },
  {
   "cell_type": "code",
   "execution_count": 636,
   "metadata": {},
   "outputs": [
    {
     "data": {
      "text/plain": [
       "index                       int64\n",
       "review_id                  object\n",
       "order_id                   object\n",
       "review_score                int64\n",
       "review_comment_title       object\n",
       "review_comment_message     object\n",
       "review_creation_date       object\n",
       "review_answer_timestamp    object\n",
       "dtype: object"
      ]
     },
     "execution_count": 636,
     "metadata": {},
     "output_type": "execute_result"
    }
   ],
   "source": [
    "df_order_reviews.dtypes # date related variables need to be changed to date"
   ]
  },
  {
   "cell_type": "code",
   "execution_count": 637,
   "metadata": {},
   "outputs": [
    {
     "data": {
      "text/plain": [
       "index                           int64\n",
       "product_id                     object\n",
       "product_category_name          object\n",
       "product_name_lenght           float64\n",
       "product_description_lenght    float64\n",
       "product_photos_qty            float64\n",
       "product_weight_g              float64\n",
       "product_length_cm             float64\n",
       "product_height_cm             float64\n",
       "product_width_cm              float64\n",
       "dtype: object"
      ]
     },
     "execution_count": 637,
     "metadata": {},
     "output_type": "execute_result"
    }
   ],
   "source": [
    "df_products.dtypes # all good"
   ]
  },
  {
   "cell_type": "code",
   "execution_count": 638,
   "metadata": {},
   "outputs": [
    {
     "data": {
      "text/plain": [
       "index                      int64\n",
       "seller_id                 object\n",
       "seller_zip_code_prefix     int64\n",
       "seller_city               object\n",
       "seller_state              object\n",
       "dtype: object"
      ]
     },
     "execution_count": 638,
     "metadata": {},
     "output_type": "execute_result"
    }
   ],
   "source": [
    "df_sellers.dtypes # all good"
   ]
  },
  {
   "cell_type": "code",
   "execution_count": 639,
   "metadata": {},
   "outputs": [
    {
     "data": {
      "text/plain": [
       "index                             int64\n",
       "product_category_name            object\n",
       "product_category_name_english    object\n",
       "dtype: object"
      ]
     },
     "execution_count": 639,
     "metadata": {},
     "output_type": "execute_result"
    }
   ],
   "source": [
    "df_product_cat_name_transl.dtypes # all good"
   ]
  },
  {
   "attachments": {},
   "cell_type": "markdown",
   "metadata": {},
   "source": [
    "#### Key Highlight(s):\n",
    "1. The dataframes that need to be handled are:\n",
    "   1. df_order\n",
    "   2. df_order_items\n",
    "   3. df_order_reviews"
   ]
  },
  {
   "attachments": {},
   "cell_type": "markdown",
   "metadata": {},
   "source": [
    "## 1.B. Handling the mismatch"
   ]
  },
  {
   "cell_type": "code",
   "execution_count": 640,
   "metadata": {},
   "outputs": [],
   "source": [
    "# On df_order\n",
    "# Change the data type from str to datetime\n",
    "df_order['order_purchase_timestamp'] = pd.to_datetime(df_order['order_purchase_timestamp'], format='%Y-%m-%d %H:%M:%S')\n",
    "df_order['order_approved_at'] = pd.to_datetime(df_order['order_approved_at'], format='%Y-%m-%d %H:%M:%S')\n",
    "df_order['order_delivered_carrier_date'] = pd.to_datetime(df_order['order_delivered_carrier_date'], format='%Y-%m-%d %H:%M:%S')\n",
    "df_order['order_delivered_customer_date'] = pd.to_datetime(df_order['order_delivered_customer_date'], format='%Y-%m-%d %H:%M:%S')\n",
    "df_order['order_estimated_delivery_date'] = pd.to_datetime(df_order['order_estimated_delivery_date'], format='%Y-%m-%d %H:%M:%S')"
   ]
  },
  {
   "cell_type": "code",
   "execution_count": 641,
   "metadata": {},
   "outputs": [],
   "source": [
    "# On df_order_items\n",
    "# Change the data type from str to datetime\n",
    "df_order_items['shipping_limit_date'] = pd.to_datetime(df_order_items['shipping_limit_date'], format='%Y-%m-%d %H:%M:%S')"
   ]
  },
  {
   "cell_type": "code",
   "execution_count": 642,
   "metadata": {},
   "outputs": [],
   "source": [
    "# On df_order_reviews\n",
    "# Change the data type from str to datetime\n",
    "df_order_reviews['review_creation_date'] = pd.to_datetime(df_order_reviews['review_creation_date'], format='%Y-%m-%d %H:%M:%S')\n",
    "df_order_reviews['review_answer_timestamp'] = pd.to_datetime(df_order_reviews['review_answer_timestamp'], format='%Y-%m-%d %H:%M:%S')"
   ]
  },
  {
   "attachments": {},
   "cell_type": "markdown",
   "metadata": {},
   "source": [
    "# 2. Handling Missing Values"
   ]
  },
  {
   "attachments": {},
   "cell_type": "markdown",
   "metadata": {},
   "source": [
    "## 2.A. Identifying missing values of each dataframe"
   ]
  },
  {
   "cell_type": "code",
   "execution_count": 643,
   "metadata": {},
   "outputs": [
    {
     "data": {
      "text/plain": [
       "index                          0.0\n",
       "geolocation_zip_code_prefix    0.0\n",
       "geolocation_lat                0.0\n",
       "geolocation_lng                0.0\n",
       "geolocation_city               0.0\n",
       "geolocation_state              0.0\n",
       "dtype: float64"
      ]
     },
     "execution_count": 643,
     "metadata": {},
     "output_type": "execute_result"
    }
   ],
   "source": [
    "# Summarry of Missing Values in df_geolocation\n",
    "df_geolocation.isna().sum()/len(df_geolocation)*100"
   ]
  },
  {
   "cell_type": "code",
   "execution_count": 644,
   "metadata": {},
   "outputs": [
    {
     "data": {
      "text/plain": [
       "index                       0.0\n",
       "customer_id                 0.0\n",
       "customer_unique_id          0.0\n",
       "customer_zip_code_prefix    0.0\n",
       "customer_city               0.0\n",
       "customer_state              0.0\n",
       "dtype: float64"
      ]
     },
     "execution_count": 644,
     "metadata": {},
     "output_type": "execute_result"
    }
   ],
   "source": [
    "# Summarry of Missing Values in df_order_customer\n",
    "df_order_customer.isna().sum()/len(df_order_customer)*100"
   ]
  },
  {
   "cell_type": "code",
   "execution_count": 645,
   "metadata": {},
   "outputs": [
    {
     "data": {
      "text/plain": [
       "index                            0.000000\n",
       "order_id                         0.000000\n",
       "customer_id                      0.000000\n",
       "order_status                     0.000000\n",
       "order_purchase_timestamp         0.000000\n",
       "order_approved_at                0.160899\n",
       "order_delivered_carrier_date     1.793023\n",
       "order_delivered_customer_date    2.981668\n",
       "order_estimated_delivery_date    0.000000\n",
       "dtype: float64"
      ]
     },
     "execution_count": 645,
     "metadata": {},
     "output_type": "execute_result"
    }
   ],
   "source": [
    "# Summarry of Missing Values in df_order\n",
    "df_order.isna().sum()/len(df_order)*100"
   ]
  },
  {
   "cell_type": "code",
   "execution_count": 646,
   "metadata": {},
   "outputs": [
    {
     "data": {
      "text/plain": [
       "index                  0.0\n",
       "order_id               0.0\n",
       "order_item_id          0.0\n",
       "product_id             0.0\n",
       "seller_id              0.0\n",
       "shipping_limit_date    0.0\n",
       "price                  0.0\n",
       "freight_value          0.0\n",
       "dtype: float64"
      ]
     },
     "execution_count": 646,
     "metadata": {},
     "output_type": "execute_result"
    }
   ],
   "source": [
    "# Summarry of Missing Values in df_order_items\n",
    "df_order_items.isna().sum()/len(df_order_items)*100"
   ]
  },
  {
   "cell_type": "code",
   "execution_count": 647,
   "metadata": {},
   "outputs": [
    {
     "data": {
      "text/plain": [
       "index                   0.0\n",
       "order_id                0.0\n",
       "payment_sequential      0.0\n",
       "payment_type            0.0\n",
       "payment_installments    0.0\n",
       "payment_value           0.0\n",
       "dtype: float64"
      ]
     },
     "execution_count": 647,
     "metadata": {},
     "output_type": "execute_result"
    }
   ],
   "source": [
    "# Summarry of Missing Values in df_order_payments\n",
    "df_order_payments.isna().sum()/len(df_order_payments)*100\n"
   ]
  },
  {
   "cell_type": "code",
   "execution_count": 648,
   "metadata": {},
   "outputs": [
    {
     "data": {
      "text/plain": [
       "index                       0.000000\n",
       "review_id                   0.000000\n",
       "order_id                    0.000000\n",
       "review_score                0.000000\n",
       "review_comment_title       88.341530\n",
       "review_comment_message     58.702532\n",
       "review_creation_date        0.000000\n",
       "review_answer_timestamp     0.000000\n",
       "dtype: float64"
      ]
     },
     "execution_count": 648,
     "metadata": {},
     "output_type": "execute_result"
    }
   ],
   "source": [
    "# Summarry of Missing Values in df_order_reviews\n",
    "df_order_reviews.isna().sum()/len(df_order_reviews)*100"
   ]
  },
  {
   "cell_type": "code",
   "execution_count": 649,
   "metadata": {},
   "outputs": [
    {
     "data": {
      "text/plain": [
       "index                         0.000000\n",
       "product_id                    0.000000\n",
       "product_category_name         1.851234\n",
       "product_name_lenght           1.851234\n",
       "product_description_lenght    1.851234\n",
       "product_photos_qty            1.851234\n",
       "product_weight_g              0.006070\n",
       "product_length_cm             0.006070\n",
       "product_height_cm             0.006070\n",
       "product_width_cm              0.006070\n",
       "dtype: float64"
      ]
     },
     "execution_count": 649,
     "metadata": {},
     "output_type": "execute_result"
    }
   ],
   "source": [
    "# Summarry of Missing Values in df_products\n",
    "df_products.isna().sum()/len(df_products)*100"
   ]
  },
  {
   "cell_type": "code",
   "execution_count": 650,
   "metadata": {},
   "outputs": [
    {
     "data": {
      "text/plain": [
       "index                     0.0\n",
       "seller_id                 0.0\n",
       "seller_zip_code_prefix    0.0\n",
       "seller_city               0.0\n",
       "seller_state              0.0\n",
       "dtype: float64"
      ]
     },
     "execution_count": 650,
     "metadata": {},
     "output_type": "execute_result"
    }
   ],
   "source": [
    "# Summarry of Missing Values in df_sellers\n",
    "df_sellers.isna().sum()/len(df_sellers)*100"
   ]
  },
  {
   "cell_type": "code",
   "execution_count": 651,
   "metadata": {},
   "outputs": [
    {
     "data": {
      "text/plain": [
       "index                            0.0\n",
       "product_category_name            0.0\n",
       "product_category_name_english    0.0\n",
       "dtype: float64"
      ]
     },
     "execution_count": 651,
     "metadata": {},
     "output_type": "execute_result"
    }
   ],
   "source": [
    "# Summarry of Missing Values in df_product_cat_name_transl\n",
    "df_product_cat_name_transl.isna().sum()/len(df_product_cat_name_transl)*100"
   ]
  },
  {
   "attachments": {},
   "cell_type": "markdown",
   "metadata": {},
   "source": [
    "#### Key Highlight(s):\n",
    "1. The dataframes that need to be handled are:\n",
    "   1. df_order\n",
    "   2. df_order_reviews\n",
    "   3. df_products"
   ]
  },
  {
   "attachments": {},
   "cell_type": "markdown",
   "metadata": {},
   "source": [
    "## 2.B. Handling missing values according to each condition"
   ]
  },
  {
   "cell_type": "code",
   "execution_count": 652,
   "metadata": {},
   "outputs": [
    {
     "data": {
      "text/plain": [
       "index                            0.0\n",
       "order_id                         0.0\n",
       "customer_id                      0.0\n",
       "order_status                     0.0\n",
       "order_purchase_timestamp         0.0\n",
       "order_approved_at                0.0\n",
       "order_delivered_carrier_date     0.0\n",
       "order_delivered_customer_date    0.0\n",
       "order_estimated_delivery_date    0.0\n",
       "dtype: float64"
      ]
     },
     "execution_count": 652,
     "metadata": {},
     "output_type": "execute_result"
    }
   ],
   "source": [
    "# On df_order\n",
    "# Fill the missing value using backward fill (next observation carried backward:)\n",
    "# Assuming that the dates carried backward could estimate the actual date \n",
    "df_order[\"order_approved_at\"] = df_order[\"order_approved_at\"].bfill()\n",
    "df_order[\"order_delivered_carrier_date\"] = df_order[\"order_delivered_carrier_date\"].bfill()\n",
    "df_order[\"order_delivered_customer_date\"] = df_order[\"order_delivered_customer_date\"].bfill()\n",
    "\n",
    "# Check the current condition\n",
    "df_order.isna().sum()/len(df_order)*100"
   ]
  },
  {
   "cell_type": "code",
   "execution_count": 653,
   "metadata": {},
   "outputs": [
    {
     "data": {
      "text/plain": [
       "index                      0.0\n",
       "review_id                  0.0\n",
       "order_id                   0.0\n",
       "review_score               0.0\n",
       "review_creation_date       0.0\n",
       "review_answer_timestamp    0.0\n",
       "dtype: float64"
      ]
     },
     "execution_count": 653,
     "metadata": {},
     "output_type": "execute_result"
    }
   ],
   "source": [
    "# On df_order_reviews\n",
    "# The column with missing values are dropped\n",
    "# The data is not used (mot running sentiment analysis)\n",
    "df_order_reviews = df_order_reviews.drop(['review_comment_title', 'review_comment_message'], axis=1)\n",
    "\n",
    "# Check the current condition\n",
    "df_order_reviews.isna().sum()/len(df_order_reviews)*100"
   ]
  },
  {
   "cell_type": "code",
   "execution_count": 654,
   "metadata": {},
   "outputs": [
    {
     "data": {
      "text/plain": [
       "index                         0.0\n",
       "product_id                    0.0\n",
       "product_category_name         0.0\n",
       "product_name_lenght           0.0\n",
       "product_description_lenght    0.0\n",
       "product_photos_qty            0.0\n",
       "product_weight_g              0.0\n",
       "product_length_cm             0.0\n",
       "product_height_cm             0.0\n",
       "product_width_cm              0.0\n",
       "dtype: float64"
      ]
     },
     "execution_count": 654,
     "metadata": {},
     "output_type": "execute_result"
    }
   ],
   "source": [
    "# On df_products\n",
    "# The missing values are filled accordingly\n",
    "mod_product_category_name = df_products[\"product_category_name\"].mode()[0] # get the mode\n",
    "df_products[\"product_category_name\"] = df_products[\"product_category_name\"].fillna(mod_product_category_name) # fill w/ mode\n",
    "\n",
    "med_product_name_lenght = df_products[\"product_name_lenght\"].median() # get the median\n",
    "df_products[\"product_name_lenght\"] = df_products[\"product_name_lenght\"].fillna(med_product_name_lenght) # fill w/ median\n",
    "\n",
    "med_product_desc_lenght = df_products[\"product_description_lenght\"].median() # get the median\n",
    "df_products[\"product_description_lenght\"] = df_products[\"product_description_lenght\"].fillna(med_product_desc_lenght) # fill w/ median\n",
    "\n",
    "med_photos_qty = df_products[\"product_photos_qty\"].median() # get the median\n",
    "df_products[\"product_photos_qty\"] = df_products[\"product_photos_qty\"].fillna(med_photos_qty) # fill w/ median\n",
    "\n",
    "med_weight_g = df_products[\"product_weight_g\"].median() # get the median\n",
    "df_products[\"product_weight_g\"] = df_products[\"product_weight_g\"].fillna(med_weight_g) # fill w/ median\n",
    "\n",
    "med_length_cm = df_products[\"product_length_cm\"].median() # get the median\n",
    "df_products[\"product_length_cm\"] = df_products[\"product_length_cm\"].fillna(med_length_cm) # fill w/ median\n",
    "\n",
    "med_height_cm = df_products[\"product_height_cm\"].median() # get the median\n",
    "df_products[\"product_height_cm\"] = df_products[\"product_height_cm\"].fillna(med_height_cm) # fill w/ median\n",
    "\n",
    "med_width_cm = df_products[\"product_width_cm\"].median() # get the median\n",
    "df_products[\"product_width_cm\"] = df_products[\"product_width_cm\"].fillna(med_width_cm) # fill w/ median\n",
    "\n",
    "df_products.isna().sum()/len(df_products)*100"
   ]
  },
  {
   "attachments": {},
   "cell_type": "markdown",
   "metadata": {},
   "source": [
    "# 3. Handling Outlier"
   ]
  },
  {
   "attachments": {},
   "cell_type": "markdown",
   "metadata": {},
   "source": [
    "## 3.A. Identifying outlier"
   ]
  },
  {
   "cell_type": "code",
   "execution_count": 655,
   "metadata": {},
   "outputs": [
    {
     "data": {
      "text/html": [
       "<div>\n",
       "<style scoped>\n",
       "    .dataframe tbody tr th:only-of-type {\n",
       "        vertical-align: middle;\n",
       "    }\n",
       "\n",
       "    .dataframe tbody tr th {\n",
       "        vertical-align: top;\n",
       "    }\n",
       "\n",
       "    .dataframe thead th {\n",
       "        text-align: right;\n",
       "    }\n",
       "</style>\n",
       "<table border=\"1\" class=\"dataframe\">\n",
       "  <thead>\n",
       "    <tr style=\"text-align: right;\">\n",
       "      <th></th>\n",
       "      <th>index</th>\n",
       "      <th>payment_sequential</th>\n",
       "      <th>payment_installments</th>\n",
       "      <th>payment_value</th>\n",
       "    </tr>\n",
       "  </thead>\n",
       "  <tbody>\n",
       "    <tr>\n",
       "      <th>count</th>\n",
       "      <td>103886.00000</td>\n",
       "      <td>103886.000000</td>\n",
       "      <td>103886.000000</td>\n",
       "      <td>103886.000000</td>\n",
       "    </tr>\n",
       "    <tr>\n",
       "      <th>mean</th>\n",
       "      <td>51942.50000</td>\n",
       "      <td>1.092679</td>\n",
       "      <td>2.853349</td>\n",
       "      <td>154.100380</td>\n",
       "    </tr>\n",
       "    <tr>\n",
       "      <th>std</th>\n",
       "      <td>29989.44937</td>\n",
       "      <td>0.706584</td>\n",
       "      <td>2.687051</td>\n",
       "      <td>217.494064</td>\n",
       "    </tr>\n",
       "    <tr>\n",
       "      <th>min</th>\n",
       "      <td>0.00000</td>\n",
       "      <td>1.000000</td>\n",
       "      <td>0.000000</td>\n",
       "      <td>0.000000</td>\n",
       "    </tr>\n",
       "    <tr>\n",
       "      <th>25%</th>\n",
       "      <td>25971.25000</td>\n",
       "      <td>1.000000</td>\n",
       "      <td>1.000000</td>\n",
       "      <td>56.790000</td>\n",
       "    </tr>\n",
       "    <tr>\n",
       "      <th>50%</th>\n",
       "      <td>51942.50000</td>\n",
       "      <td>1.000000</td>\n",
       "      <td>1.000000</td>\n",
       "      <td>100.000000</td>\n",
       "    </tr>\n",
       "    <tr>\n",
       "      <th>75%</th>\n",
       "      <td>77913.75000</td>\n",
       "      <td>1.000000</td>\n",
       "      <td>4.000000</td>\n",
       "      <td>171.837500</td>\n",
       "    </tr>\n",
       "    <tr>\n",
       "      <th>max</th>\n",
       "      <td>103885.00000</td>\n",
       "      <td>29.000000</td>\n",
       "      <td>24.000000</td>\n",
       "      <td>13664.080000</td>\n",
       "    </tr>\n",
       "  </tbody>\n",
       "</table>\n",
       "</div>"
      ],
      "text/plain": [
       "              index  payment_sequential  payment_installments  payment_value\n",
       "count  103886.00000       103886.000000         103886.000000  103886.000000\n",
       "mean    51942.50000            1.092679              2.853349     154.100380\n",
       "std     29989.44937            0.706584              2.687051     217.494064\n",
       "min         0.00000            1.000000              0.000000       0.000000\n",
       "25%     25971.25000            1.000000              1.000000      56.790000\n",
       "50%     51942.50000            1.000000              1.000000     100.000000\n",
       "75%     77913.75000            1.000000              4.000000     171.837500\n",
       "max    103885.00000           29.000000             24.000000   13664.080000"
      ]
     },
     "execution_count": 655,
     "metadata": {},
     "output_type": "execute_result"
    }
   ],
   "source": [
    "# Indentify which data has outlier\n",
    "df_order_payments.describe() # outlier identified in payment related variables (max value is way further away from Q3)"
   ]
  },
  {
   "attachments": {},
   "cell_type": "markdown",
   "metadata": {},
   "source": [
    "### 3.A.1. On payment_sequential"
   ]
  },
  {
   "cell_type": "code",
   "execution_count": 656,
   "metadata": {},
   "outputs": [
    {
     "data": {
      "text/plain": [
       "<Axes: xlabel='payment_sequential', ylabel='Count'>"
      ]
     },
     "execution_count": 656,
     "metadata": {},
     "output_type": "execute_result"
    },
    {
     "data": {
      "image/png": "[encoded data removed]",
      "text/plain": [
       "<Figure size 640x480 with 1 Axes>"
      ]
     },
     "metadata": {},
     "output_type": "display_data"
    }
   ],
   "source": [
    "# Draw a plot of payment_sequential\n",
    "sns.histplot(df_order_payments, x=\"payment_sequential\", bins=100) # based on this histogram, there're outliers in payment_sequential"
   ]
  },
  {
   "cell_type": "code",
   "execution_count": 657,
   "metadata": {},
   "outputs": [
    {
     "data": {
      "text/plain": [
       "<Axes: xlabel='payment_sequential'>"
      ]
     },
     "execution_count": 657,
     "metadata": {},
     "output_type": "execute_result"
    },
    {
     "data": {
      "image/png": "[encoded data removed]",
      "text/plain": [
       "<Figure size 640x480 with 1 Axes>"
      ]
     },
     "metadata": {},
     "output_type": "display_data"
    }
   ],
   "source": [
    "# Double check using boxplot\n",
    "sns.boxplot(x=df_order_payments['payment_sequential'])"
   ]
  },
  {
   "attachments": {},
   "cell_type": "markdown",
   "metadata": {},
   "source": [
    "### 3.A.2. On payment_installments"
   ]
  },
  {
   "cell_type": "code",
   "execution_count": 658,
   "metadata": {},
   "outputs": [
    {
     "data": {
      "text/plain": [
       "<Axes: xlabel='payment_installments', ylabel='Count'>"
      ]
     },
     "execution_count": 658,
     "metadata": {},
     "output_type": "execute_result"
    },
    {
     "data": {
      "image/png": "[encoded data removed]",
      "text/plain": [
       "<Figure size 640x480 with 1 Axes>"
      ]
     },
     "metadata": {},
     "output_type": "display_data"
    }
   ],
   "source": [
    "# Draw a plot of payment_installments\n",
    "sns.histplot(df_order_payments, x=\"payment_installments\", bins=100) # based on this histogram, there're outliers in payment_installments"
   ]
  },
  {
   "cell_type": "code",
   "execution_count": 659,
   "metadata": {},
   "outputs": [
    {
     "data": {
      "text/plain": [
       "<Axes: xlabel='payment_installments'>"
      ]
     },
     "execution_count": 659,
     "metadata": {},
     "output_type": "execute_result"
    },
    {
     "data": {
      "image/png": "[encoded data removed]",
      "text/plain": [
       "<Figure size 640x480 with 1 Axes>"
      ]
     },
     "metadata": {},
     "output_type": "display_data"
    }
   ],
   "source": [
    "# Double check using boxplot\n",
    "sns.boxplot(x=df_order_payments['payment_installments'])\n"
   ]
  },
  {
   "attachments": {},
   "cell_type": "markdown",
   "metadata": {},
   "source": [
    "### 3.A.3. On payment_value"
   ]
  },
  {
   "cell_type": "code",
   "execution_count": 660,
   "metadata": {},
   "outputs": [
    {
     "data": {
      "text/plain": [
       "<Axes: xlabel='payment_value', ylabel='Count'>"
      ]
     },
     "execution_count": 660,
     "metadata": {},
     "output_type": "execute_result"
    },
    {
     "data": {
      "image/png": "[encoded data removed]",
      "text/plain": [
       "<Figure size 640x480 with 1 Axes>"
      ]
     },
     "metadata": {},
     "output_type": "display_data"
    }
   ],
   "source": [
    "sns.histplot(df_order_payments, x=\"payment_value\", bins=100) # based on this histogram, there's outlier in payment_value"
   ]
  },
  {
   "cell_type": "code",
   "execution_count": 661,
   "metadata": {},
   "outputs": [
    {
     "data": {
      "text/plain": [
       "<Axes: xlabel='payment_value'>"
      ]
     },
     "execution_count": 661,
     "metadata": {},
     "output_type": "execute_result"
    },
    {
     "data": {
      "image/png": "[encoded data removed]",
      "text/plain": [
       "<Figure size 640x480 with 1 Axes>"
      ]
     },
     "metadata": {},
     "output_type": "display_data"
    }
   ],
   "source": [
    "# Double check using boxplot\n",
    "sns.boxplot(x=df_order_payments['payment_value'])"
   ]
  },
  {
   "attachments": {},
   "cell_type": "markdown",
   "metadata": {},
   "source": [
    "## 3.B. Handling identified outlier"
   ]
  },
  {
   "attachments": {},
   "cell_type": "markdown",
   "metadata": {},
   "source": [
    "### 3.B.A. On payment_sequential"
   ]
  },
  {
   "cell_type": "code",
   "execution_count": 662,
   "metadata": {},
   "outputs": [
    {
     "data": {
      "text/plain": [
       "<Axes: xlabel='payment_sequential', ylabel='Count'>"
      ]
     },
     "execution_count": 662,
     "metadata": {},
     "output_type": "execute_result"
    },
    {
     "data": {
      "image/png": "[encoded data removed]",
      "text/plain": [
       "<Figure size 640x480 with 1 Axes>"
      ]
     },
     "metadata": {},
     "output_type": "display_data"
    }
   ],
   "source": [
    "# Define upper bound\n",
    "upper_bound = df_order_payments[\"payment_sequential\"].median() + df_order_payments[\"payment_sequential\"].std()*3 # median is used because data is skewed\n",
    "\n",
    "# Define df without outlier\n",
    "df_order_payments_without_outlier = df_order_payments[df_order_payments[\"payment_sequential\"] <= upper_bound]\n",
    "\n",
    "# Plot to see the distribution without outlier\n",
    "sns.histplot(df_order_payments_without_outlier, x='payment_sequential')"
   ]
  },
  {
   "cell_type": "code",
   "execution_count": 663,
   "metadata": {},
   "outputs": [
    {
     "data": {
      "text/html": [
       "<div>\n",
       "<style scoped>\n",
       "    .dataframe tbody tr th:only-of-type {\n",
       "        vertical-align: middle;\n",
       "    }\n",
       "\n",
       "    .dataframe tbody tr th {\n",
       "        vertical-align: top;\n",
       "    }\n",
       "\n",
       "    .dataframe thead th {\n",
       "        text-align: right;\n",
       "    }\n",
       "</style>\n",
       "<table border=\"1\" class=\"dataframe\">\n",
       "  <thead>\n",
       "    <tr style=\"text-align: right;\">\n",
       "      <th></th>\n",
       "      <th>index</th>\n",
       "      <th>payment_sequential</th>\n",
       "      <th>payment_installments</th>\n",
       "      <th>payment_value</th>\n",
       "    </tr>\n",
       "  </thead>\n",
       "  <tbody>\n",
       "    <tr>\n",
       "      <th>count</th>\n",
       "      <td>103886.00000</td>\n",
       "      <td>103886.000000</td>\n",
       "      <td>103886.000000</td>\n",
       "      <td>103886.000000</td>\n",
       "    </tr>\n",
       "    <tr>\n",
       "      <th>mean</th>\n",
       "      <td>51942.50000</td>\n",
       "      <td>1.040439</td>\n",
       "      <td>2.853349</td>\n",
       "      <td>154.100380</td>\n",
       "    </tr>\n",
       "    <tr>\n",
       "      <th>std</th>\n",
       "      <td>29989.44937</td>\n",
       "      <td>0.223582</td>\n",
       "      <td>2.687051</td>\n",
       "      <td>217.494064</td>\n",
       "    </tr>\n",
       "    <tr>\n",
       "      <th>min</th>\n",
       "      <td>0.00000</td>\n",
       "      <td>1.000000</td>\n",
       "      <td>0.000000</td>\n",
       "      <td>0.000000</td>\n",
       "    </tr>\n",
       "    <tr>\n",
       "      <th>25%</th>\n",
       "      <td>25971.25000</td>\n",
       "      <td>1.000000</td>\n",
       "      <td>1.000000</td>\n",
       "      <td>56.790000</td>\n",
       "    </tr>\n",
       "    <tr>\n",
       "      <th>50%</th>\n",
       "      <td>51942.50000</td>\n",
       "      <td>1.000000</td>\n",
       "      <td>1.000000</td>\n",
       "      <td>100.000000</td>\n",
       "    </tr>\n",
       "    <tr>\n",
       "      <th>75%</th>\n",
       "      <td>77913.75000</td>\n",
       "      <td>1.000000</td>\n",
       "      <td>4.000000</td>\n",
       "      <td>171.837500</td>\n",
       "    </tr>\n",
       "    <tr>\n",
       "      <th>max</th>\n",
       "      <td>103885.00000</td>\n",
       "      <td>3.000000</td>\n",
       "      <td>24.000000</td>\n",
       "      <td>13664.080000</td>\n",
       "    </tr>\n",
       "  </tbody>\n",
       "</table>\n",
       "</div>"
      ],
      "text/plain": [
       "              index  payment_sequential  payment_installments  payment_value\n",
       "count  103886.00000       103886.000000         103886.000000  103886.000000\n",
       "mean    51942.50000            1.040439              2.853349     154.100380\n",
       "std     29989.44937            0.223582              2.687051     217.494064\n",
       "min         0.00000            1.000000              0.000000       0.000000\n",
       "25%     25971.25000            1.000000              1.000000      56.790000\n",
       "50%     51942.50000            1.000000              1.000000     100.000000\n",
       "75%     77913.75000            1.000000              4.000000     171.837500\n",
       "max    103885.00000            3.000000             24.000000   13664.080000"
      ]
     },
     "execution_count": 663,
     "metadata": {},
     "output_type": "execute_result"
    }
   ],
   "source": [
    "# Find the median of payment_sequential\n",
    "med_payment_sequential = df_order_payments['payment_sequential'].median()\n",
    "\n",
    "# Replace the outlier with the median\n",
    "df_order_payments.loc[df_order_payments['payment_sequential'] > upper_bound, \"payment_sequential\"] = med_payment_sequential\n",
    "\n",
    "# Check the change (see the max sequential of payment_sequential)\n",
    "df_order_payments.describe()"
   ]
  },
  {
   "cell_type": "code",
   "execution_count": 664,
   "metadata": {},
   "outputs": [
    {
     "data": {
      "text/plain": [
       "<Axes: xlabel='payment_sequential', ylabel='Count'>"
      ]
     },
     "execution_count": 664,
     "metadata": {},
     "output_type": "execute_result"
    },
    {
     "data": {
      "image/png": "[encoded data removed]",
      "text/plain": [
       "<Figure size 640x480 with 1 Axes>"
      ]
     },
     "metadata": {},
     "output_type": "display_data"
    }
   ],
   "source": [
    "# Plot to see the distribution with outliers changed to its median\n",
    "sns.histplot(df_order_payments, x='payment_sequential')"
   ]
  },
  {
   "attachments": {},
   "cell_type": "markdown",
   "metadata": {},
   "source": [
    "### 3.B.B. On payment_installments"
   ]
  },
  {
   "cell_type": "code",
   "execution_count": 665,
   "metadata": {},
   "outputs": [
    {
     "data": {
      "text/plain": [
       "<Axes: xlabel='payment_installments', ylabel='Count'>"
      ]
     },
     "execution_count": 665,
     "metadata": {},
     "output_type": "execute_result"
    },
    {
     "data": {
      "image/png": "[encoded data removed]",
      "text/plain": [
       "<Figure size 640x480 with 1 Axes>"
      ]
     },
     "metadata": {},
     "output_type": "display_data"
    }
   ],
   "source": [
    "# Define upper bound\n",
    "upper_bound = df_order_payments[\"payment_installments\"].median() + df_order_payments[\"payment_installments\"].std()*3 # median is used because data is skewed\n",
    "\n",
    "# Define df without outlier\n",
    "df_order_payments_without_outlier = df_order_payments[df_order_payments[\"payment_installments\"] <= upper_bound]\n",
    "\n",
    "# Plot to see the distribution without outlier\n",
    "sns.histplot(df_order_payments_without_outlier, x='payment_installments')"
   ]
  },
  {
   "cell_type": "code",
   "execution_count": 666,
   "metadata": {},
   "outputs": [
    {
     "data": {
      "text/html": [
       "<div>\n",
       "<style scoped>\n",
       "    .dataframe tbody tr th:only-of-type {\n",
       "        vertical-align: middle;\n",
       "    }\n",
       "\n",
       "    .dataframe tbody tr th {\n",
       "        vertical-align: top;\n",
       "    }\n",
       "\n",
       "    .dataframe thead th {\n",
       "        text-align: right;\n",
       "    }\n",
       "</style>\n",
       "<table border=\"1\" class=\"dataframe\">\n",
       "  <thead>\n",
       "    <tr style=\"text-align: right;\">\n",
       "      <th></th>\n",
       "      <th>index</th>\n",
       "      <th>payment_sequential</th>\n",
       "      <th>payment_installments</th>\n",
       "      <th>payment_value</th>\n",
       "    </tr>\n",
       "  </thead>\n",
       "  <tbody>\n",
       "    <tr>\n",
       "      <th>count</th>\n",
       "      <td>103886.00000</td>\n",
       "      <td>103886.000000</td>\n",
       "      <td>103886.000000</td>\n",
       "      <td>103886.000000</td>\n",
       "    </tr>\n",
       "    <tr>\n",
       "      <th>mean</th>\n",
       "      <td>51942.50000</td>\n",
       "      <td>1.040439</td>\n",
       "      <td>2.347313</td>\n",
       "      <td>154.100380</td>\n",
       "    </tr>\n",
       "    <tr>\n",
       "      <th>std</th>\n",
       "      <td>29989.44937</td>\n",
       "      <td>0.223582</td>\n",
       "      <td>2.011350</td>\n",
       "      <td>217.494064</td>\n",
       "    </tr>\n",
       "    <tr>\n",
       "      <th>min</th>\n",
       "      <td>0.00000</td>\n",
       "      <td>1.000000</td>\n",
       "      <td>0.000000</td>\n",
       "      <td>0.000000</td>\n",
       "    </tr>\n",
       "    <tr>\n",
       "      <th>25%</th>\n",
       "      <td>25971.25000</td>\n",
       "      <td>1.000000</td>\n",
       "      <td>1.000000</td>\n",
       "      <td>56.790000</td>\n",
       "    </tr>\n",
       "    <tr>\n",
       "      <th>50%</th>\n",
       "      <td>51942.50000</td>\n",
       "      <td>1.000000</td>\n",
       "      <td>1.000000</td>\n",
       "      <td>100.000000</td>\n",
       "    </tr>\n",
       "    <tr>\n",
       "      <th>75%</th>\n",
       "      <td>77913.75000</td>\n",
       "      <td>1.000000</td>\n",
       "      <td>3.000000</td>\n",
       "      <td>171.837500</td>\n",
       "    </tr>\n",
       "    <tr>\n",
       "      <th>max</th>\n",
       "      <td>103885.00000</td>\n",
       "      <td>3.000000</td>\n",
       "      <td>9.000000</td>\n",
       "      <td>13664.080000</td>\n",
       "    </tr>\n",
       "  </tbody>\n",
       "</table>\n",
       "</div>"
      ],
      "text/plain": [
       "              index  payment_sequential  payment_installments  payment_value\n",
       "count  103886.00000       103886.000000         103886.000000  103886.000000\n",
       "mean    51942.50000            1.040439              2.347313     154.100380\n",
       "std     29989.44937            0.223582              2.011350     217.494064\n",
       "min         0.00000            1.000000              0.000000       0.000000\n",
       "25%     25971.25000            1.000000              1.000000      56.790000\n",
       "50%     51942.50000            1.000000              1.000000     100.000000\n",
       "75%     77913.75000            1.000000              3.000000     171.837500\n",
       "max    103885.00000            3.000000              9.000000   13664.080000"
      ]
     },
     "execution_count": 666,
     "metadata": {},
     "output_type": "execute_result"
    }
   ],
   "source": [
    "# Find the median of payment_installments\n",
    "med_payment_installments = df_order_payments['payment_installments'].median()\n",
    "\n",
    "# Replace the outlier with the median\n",
    "df_order_payments.loc[df_order_payments['payment_installments'] > upper_bound, \"payment_installments\"] = med_payment_installments\n",
    "\n",
    "# Check the change (see the max sequential of payment_installments)\n",
    "df_order_payments.describe()"
   ]
  },
  {
   "cell_type": "code",
   "execution_count": 667,
   "metadata": {},
   "outputs": [
    {
     "data": {
      "text/plain": [
       "<Axes: xlabel='payment_installments', ylabel='Count'>"
      ]
     },
     "execution_count": 667,
     "metadata": {},
     "output_type": "execute_result"
    },
    {
     "data": {
      "image/png": "[encoded data removed]",
      "text/plain": [
       "<Figure size 640x480 with 1 Axes>"
      ]
     },
     "metadata": {},
     "output_type": "display_data"
    }
   ],
   "source": [
    "# Plot to see the distribution with outliers changed to its median\n",
    "sns.histplot(df_order_payments, x='payment_installments')"
   ]
  },
  {
   "attachments": {},
   "cell_type": "markdown",
   "metadata": {},
   "source": [
    "### 3.B.C. On payment_value"
   ]
  },
  {
   "cell_type": "code",
   "execution_count": 668,
   "metadata": {},
   "outputs": [
    {
     "data": {
      "text/plain": [
       "<Axes: xlabel='payment_value', ylabel='Count'>"
      ]
     },
     "execution_count": 668,
     "metadata": {},
     "output_type": "execute_result"
    },
    {
     "data": {
      "image/png": "[encoded data removed]",
      "text/plain": [
       "<Figure size 640x480 with 1 Axes>"
      ]
     },
     "metadata": {},
     "output_type": "display_data"
    }
   ],
   "source": [
    "# Define upper bound\n",
    "upper_bound = df_order_payments[\"payment_value\"].median() + df_order_payments[\"payment_value\"].std()*3 # median is used because data is skewed\n",
    "\n",
    "# Define df without outlier\n",
    "df_order_payments_without_outlier = df_order_payments[df_order_payments[\"payment_value\"] <= upper_bound]\n",
    "\n",
    "# Plot to see the distribution without outlier\n",
    "sns.histplot(df_order_payments_without_outlier, x='payment_value')"
   ]
  },
  {
   "cell_type": "code",
   "execution_count": 669,
   "metadata": {},
   "outputs": [
    {
     "data": {
      "text/html": [
       "<div>\n",
       "<style scoped>\n",
       "    .dataframe tbody tr th:only-of-type {\n",
       "        vertical-align: middle;\n",
       "    }\n",
       "\n",
       "    .dataframe tbody tr th {\n",
       "        vertical-align: top;\n",
       "    }\n",
       "\n",
       "    .dataframe thead th {\n",
       "        text-align: right;\n",
       "    }\n",
       "</style>\n",
       "<table border=\"1\" class=\"dataframe\">\n",
       "  <thead>\n",
       "    <tr style=\"text-align: right;\">\n",
       "      <th></th>\n",
       "      <th>index</th>\n",
       "      <th>payment_sequential</th>\n",
       "      <th>payment_installments</th>\n",
       "      <th>payment_value</th>\n",
       "    </tr>\n",
       "  </thead>\n",
       "  <tbody>\n",
       "    <tr>\n",
       "      <th>count</th>\n",
       "      <td>103886.00000</td>\n",
       "      <td>103886.000000</td>\n",
       "      <td>103886.000000</td>\n",
       "      <td>103886.000000</td>\n",
       "    </tr>\n",
       "    <tr>\n",
       "      <th>mean</th>\n",
       "      <td>51942.50000</td>\n",
       "      <td>1.040439</td>\n",
       "      <td>2.347313</td>\n",
       "      <td>131.085589</td>\n",
       "    </tr>\n",
       "    <tr>\n",
       "      <th>std</th>\n",
       "      <td>29989.44937</td>\n",
       "      <td>0.223582</td>\n",
       "      <td>2.011350</td>\n",
       "      <td>114.253445</td>\n",
       "    </tr>\n",
       "    <tr>\n",
       "      <th>min</th>\n",
       "      <td>0.00000</td>\n",
       "      <td>1.000000</td>\n",
       "      <td>0.000000</td>\n",
       "      <td>0.000000</td>\n",
       "    </tr>\n",
       "    <tr>\n",
       "      <th>25%</th>\n",
       "      <td>25971.25000</td>\n",
       "      <td>1.000000</td>\n",
       "      <td>1.000000</td>\n",
       "      <td>56.790000</td>\n",
       "    </tr>\n",
       "    <tr>\n",
       "      <th>50%</th>\n",
       "      <td>51942.50000</td>\n",
       "      <td>1.000000</td>\n",
       "      <td>1.000000</td>\n",
       "      <td>100.000000</td>\n",
       "    </tr>\n",
       "    <tr>\n",
       "      <th>75%</th>\n",
       "      <td>77913.75000</td>\n",
       "      <td>1.000000</td>\n",
       "      <td>3.000000</td>\n",
       "      <td>164.240000</td>\n",
       "    </tr>\n",
       "    <tr>\n",
       "      <th>max</th>\n",
       "      <td>103885.00000</td>\n",
       "      <td>3.000000</td>\n",
       "      <td>9.000000</td>\n",
       "      <td>752.210000</td>\n",
       "    </tr>\n",
       "  </tbody>\n",
       "</table>\n",
       "</div>"
      ],
      "text/plain": [
       "              index  payment_sequential  payment_installments  payment_value\n",
       "count  103886.00000       103886.000000         103886.000000  103886.000000\n",
       "mean    51942.50000            1.040439              2.347313     131.085589\n",
       "std     29989.44937            0.223582              2.011350     114.253445\n",
       "min         0.00000            1.000000              0.000000       0.000000\n",
       "25%     25971.25000            1.000000              1.000000      56.790000\n",
       "50%     51942.50000            1.000000              1.000000     100.000000\n",
       "75%     77913.75000            1.000000              3.000000     164.240000\n",
       "max    103885.00000            3.000000              9.000000     752.210000"
      ]
     },
     "execution_count": 669,
     "metadata": {},
     "output_type": "execute_result"
    }
   ],
   "source": [
    "# Find the median of payment_value\n",
    "med_payment_value = df_order_payments['payment_value'].median()\n",
    "\n",
    "# Replace the outlier with the median\n",
    "df_order_payments.loc[df_order_payments['payment_value'] > upper_bound, \"payment_value\"] = med_payment_value\n",
    "\n",
    "# Check the change (see the max value of payment_value)\n",
    "df_order_payments.describe()"
   ]
  },
  {
   "cell_type": "code",
   "execution_count": 670,
   "metadata": {},
   "outputs": [
    {
     "data": {
      "text/plain": [
       "<Axes: xlabel='payment_value', ylabel='Count'>"
      ]
     },
     "execution_count": 670,
     "metadata": {},
     "output_type": "execute_result"
    },
    {
     "data": {
      "image/png": "[encoded data removed]",
      "text/plain": [
       "<Figure size 640x480 with 1 Axes>"
      ]
     },
     "metadata": {},
     "output_type": "display_data"
    }
   ],
   "source": [
    "# Plot to see the distribution with the outlier changed to median\n",
    "sns.histplot(df_order_payments, x='payment_value')"
   ]
  },
  {
   "attachments": {},
   "cell_type": "markdown",
   "metadata": {},
   "source": [
    "# 4. Handling Duplicates"
   ]
  },
  {
   "cell_type": "code",
   "execution_count": 294,
   "metadata": {},
   "outputs": [
    {
     "data": {
      "text/plain": [
       "count     1000163\n",
       "unique          1\n",
       "top         False\n",
       "freq      1000163\n",
       "dtype: object"
      ]
     },
     "execution_count": 294,
     "metadata": {},
     "output_type": "execute_result"
    }
   ],
   "source": [
    "# Check whether duplicate exist\n",
    "df_geolocation.duplicated(keep=False).describe()"
   ]
  },
  {
   "cell_type": "code",
   "execution_count": 295,
   "metadata": {},
   "outputs": [
    {
     "data": {
      "text/plain": [
       "count     99441\n",
       "unique        1\n",
       "top       False\n",
       "freq      99441\n",
       "dtype: object"
      ]
     },
     "execution_count": 295,
     "metadata": {},
     "output_type": "execute_result"
    }
   ],
   "source": [
    "# Check whether duplicate exist\n",
    "df_order_customer.duplicated(keep=False).describe()"
   ]
  },
  {
   "cell_type": "code",
   "execution_count": 296,
   "metadata": {},
   "outputs": [
    {
     "data": {
      "text/plain": [
       "count     99441\n",
       "unique        1\n",
       "top       False\n",
       "freq      99441\n",
       "dtype: object"
      ]
     },
     "execution_count": 296,
     "metadata": {},
     "output_type": "execute_result"
    }
   ],
   "source": [
    "# Check whether duplicate exist\n",
    "df_order.duplicated(keep=False).describe()"
   ]
  },
  {
   "cell_type": "code",
   "execution_count": 297,
   "metadata": {},
   "outputs": [
    {
     "data": {
      "text/plain": [
       "count     112650\n",
       "unique         1\n",
       "top        False\n",
       "freq      112650\n",
       "dtype: object"
      ]
     },
     "execution_count": 297,
     "metadata": {},
     "output_type": "execute_result"
    }
   ],
   "source": [
    "# Check whether duplicate exist\n",
    "df_order_items.duplicated(keep=False).describe()"
   ]
  },
  {
   "cell_type": "code",
   "execution_count": 298,
   "metadata": {},
   "outputs": [
    {
     "data": {
      "text/plain": [
       "count     103886\n",
       "unique         1\n",
       "top        False\n",
       "freq      103886\n",
       "dtype: object"
      ]
     },
     "execution_count": 298,
     "metadata": {},
     "output_type": "execute_result"
    }
   ],
   "source": [
    "# Check whether duplicate exist\n",
    "df_order_payments.duplicated(keep=False).describe()"
   ]
  },
  {
   "cell_type": "code",
   "execution_count": 299,
   "metadata": {},
   "outputs": [
    {
     "data": {
      "text/plain": [
       "count     99224\n",
       "unique        1\n",
       "top       False\n",
       "freq      99224\n",
       "dtype: object"
      ]
     },
     "execution_count": 299,
     "metadata": {},
     "output_type": "execute_result"
    }
   ],
   "source": [
    "# Check whether duplicate exist\n",
    "df_order_reviews.duplicated(keep=False).describe()"
   ]
  },
  {
   "cell_type": "code",
   "execution_count": 300,
   "metadata": {},
   "outputs": [
    {
     "data": {
      "text/plain": [
       "count     32951\n",
       "unique        1\n",
       "top       False\n",
       "freq      32951\n",
       "dtype: object"
      ]
     },
     "execution_count": 300,
     "metadata": {},
     "output_type": "execute_result"
    }
   ],
   "source": [
    "# Check whether duplicate exist\n",
    "df_products.duplicated(keep=False).describe()"
   ]
  },
  {
   "cell_type": "code",
   "execution_count": 301,
   "metadata": {},
   "outputs": [
    {
     "data": {
      "text/plain": [
       "count      3095\n",
       "unique        1\n",
       "top       False\n",
       "freq       3095\n",
       "dtype: object"
      ]
     },
     "execution_count": 301,
     "metadata": {},
     "output_type": "execute_result"
    }
   ],
   "source": [
    "# Check whether duplicate exist\n",
    "df_sellers.duplicated(keep=False).describe()"
   ]
  },
  {
   "cell_type": "code",
   "execution_count": 302,
   "metadata": {},
   "outputs": [
    {
     "data": {
      "text/plain": [
       "count        71\n",
       "unique        1\n",
       "top       False\n",
       "freq         71\n",
       "dtype: object"
      ]
     },
     "execution_count": 302,
     "metadata": {},
     "output_type": "execute_result"
    }
   ],
   "source": [
    "# Check whether duplicate exist\n",
    "df_product_cat_name_transl.duplicated(keep=False).describe()"
   ]
  },
  {
   "attachments": {},
   "cell_type": "markdown",
   "metadata": {},
   "source": [
    "### Key insight(s):\n",
    "1. There is no duplicate in all the data tables."
   ]
  },
  {
   "attachments": {},
   "cell_type": "markdown",
   "metadata": {},
   "source": [
    "# 5. Handling Format Inconsistencies/Typos"
   ]
  },
  {
   "attachments": {},
   "cell_type": "markdown",
   "metadata": {},
   "source": [
    "## 5.A. Identify variables prone to typo"
   ]
  },
  {
   "cell_type": "code",
   "execution_count": 303,
   "metadata": {},
   "outputs": [
    {
     "data": {
      "text/plain": [
       "seller_city\n",
       "sao paulo              694\n",
       "curitiba               127\n",
       "rio de janeiro          96\n",
       "belo horizonte          68\n",
       "ribeirao preto          52\n",
       "                      ... \n",
       "taruma                   1\n",
       "s jose do rio preto      1\n",
       "domingos martins         1\n",
       "messias targino          1\n",
       "leme                     1\n",
       "Name: count, Length: 611, dtype: int64"
      ]
     },
     "execution_count": 303,
     "metadata": {},
     "output_type": "execute_result"
    }
   ],
   "source": [
    "# Identify potential inconsistencies\n",
    "df_geolocation['geolocation_city'].value_counts()\n",
    "df_order_customer['customer_city'].value_counts()\n",
    "df_sellers['seller_city'].value_counts()\n",
    "\n",
    "# City name tend to have typos"
   ]
  },
  {
   "attachments": {},
   "cell_type": "markdown",
   "metadata": {},
   "source": [
    "## 5.B. Handling Inconsistencies"
   ]
  },
  {
   "cell_type": "code",
   "execution_count": 304,
   "metadata": {},
   "outputs": [],
   "source": [
    "dict_chara_replace = {\n",
    "    \"ã\" : \"a\",\n",
    "    \"á\" : \"a\",\n",
    "    \"â\" : \"a\",\n",
    "    \"ç\" : \"c\",\n",
    "    \"é\" : \"e\",\n",
    "    \"ê\" : \"e\",\n",
    "    \"í\" : \"i\",\n",
    "    \"ó\" : \"o\",\n",
    "    \"ú\" : \"u\",\n",
    "    \"'\" : \" \",\n",
    "    \"£\" : \"\",\n",
    "    \"ô\" :\"o\",\n",
    "    \"õ\" : \"o\",\n",
    "    \"-\" : \" \",\n",
    "    \"  \" : \" \"\n",
    "}"
   ]
  },
  {
   "cell_type": "code",
   "execution_count": 305,
   "metadata": {},
   "outputs": [],
   "source": [
    "# Create a function to standardize the characters\n",
    "def standardize_chara(data, col_name):\n",
    "    data[col_name] = data[col_name].str.lower()\n",
    "\n",
    "    for chara in dict_chara_replace:\n",
    "       data[col_name] = data[col_name].str.replace(chara, dict_chara_replace[chara])"
   ]
  },
  {
   "cell_type": "code",
   "execution_count": 306,
   "metadata": {},
   "outputs": [],
   "source": [
    "map_city_names = {\n",
    "    \"saopaulo\" : \"sao paulo\",\n",
    "    \"sp\" : \"sau paulo\",\n",
    "    \"guarulhos-sp\" : \"guarulhos\",\n",
    "    \"pariquera acu\" : \"pariquera-acu\",\n",
    "    \"vitorinos - alto rio doce\" : \"virotinos\",\n",
    "    \"vitorinos - alto rio doce\" : \"virotinos\",\n",
    "    \"praia grande (fundao)\" : \"praia grande\",\n",
    "    \"tamoios (cabo frio)\": \"tamoios\",\n",
    "    \"antunes (igaratinga)\" : \"antunes\",\n",
    "    \"monte gordo (camacari)  distrito\" : \"monte gordo\",\n",
    "    \"jacare (cabreuva)\" : \"jacare\",\n",
    "    \"california da barra (barra do pirai)\" : \"california da barra\",\n",
    "    \"penedo (itatiaia)\" : \"penedo\",\n",
    "    \"bacaxa (saquarema)  distrito\" : \"bacaxa\",\n",
    "    \"praia grande (fundao)  distrito\" : \"praia grande\",\n",
    "    \"itabatan (mucuri)\" : \"itabatan\",\n",
    "    \"realeza (manhuacu)\" : \"realeza\",\n",
    "    \"mogi-guacu\" : \"mogi guacu\",\n",
    "    \"biritiba-mirim\" : \"biritiba mirim\",\n",
    "    \"mogi-mirim\" : \"mogi mirim\",\n",
    "    \"venda nova do imigrante-es\" : \"venda nova do imigrante\",\n",
    "    \"pariquera-acu\" : \"pariquera acu\",\n",
    "    \"varre-sai\" : \"varre sai\",\n",
    "    \"naque-nanuque\" : \"naque nanuque\",\n",
    "    \"embu-guacu\" : \"embu guacu\",\n",
    "    \"pingo-dagua\" : \"pingo d agua\",\n",
    "    \"pingo d agua\" : \"pingo d agua\",\n",
    "    \"pariquera-acu\" : \"pariquera acu\",\n",
    "    \"olhos dagua\" : \"olhos d agua\",\n",
    "    \"olho dagua das cunhas\" : \"olho d agua das cunhas\",\n",
    "    \"olho dagua grande\" : \"olho d agua grande\"\n",
    "    \n",
    "}"
   ]
  },
  {
   "cell_type": "code",
   "execution_count": 307,
   "metadata": {},
   "outputs": [
    {
     "data": {
      "text/plain": [
       "geolocation_city\n",
       "sao paulo               160721\n",
       "rio de janeiro           62151\n",
       "belo horizonte           27805\n",
       "curitiba                 16593\n",
       "porto alegre             13521\n",
       "                         ...  \n",
       "ceilandia norte              1\n",
       "azambuja                     1\n",
       "algodao de jandaira          1\n",
       "ipuca                        1\n",
       "alta floresta doeste         1\n",
       "Name: count, Length: 5924, dtype: int64"
      ]
     },
     "execution_count": 307,
     "metadata": {},
     "output_type": "execute_result"
    }
   ],
   "source": [
    "# On df_geolocation\n",
    "# Standardize the characters\n",
    "standardize_chara(df_geolocation, 'geolocation_city')\n",
    "\n",
    "# Replace the inconsistencies of city names\n",
    "df_geolocation['geolocation_city'] = df_geolocation['geolocation_city'].replace(map_city_names)\n",
    "df_geolocation['geolocation_city'].value_counts()"
   ]
  },
  {
   "cell_type": "code",
   "execution_count": 308,
   "metadata": {},
   "outputs": [
    {
     "data": {
      "text/plain": [
       "customer_city\n",
       "sao paulo               15540\n",
       "rio de janeiro           6882\n",
       "belo horizonte           2773\n",
       "brasilia                 2131\n",
       "curitiba                 1521\n",
       "                        ...  \n",
       "central                     1\n",
       "nova independencia          1\n",
       "cha de alegria              1\n",
       "sao joao do itaperiu        1\n",
       "eugenio de castro           1\n",
       "Name: count, Length: 4113, dtype: int64"
      ]
     },
     "execution_count": 308,
     "metadata": {},
     "output_type": "execute_result"
    }
   ],
   "source": [
    "# On df_order_customer\n",
    "# Standardize the characters\n",
    "standardize_chara(df_order_customer, 'customer_city')\n",
    "\n",
    "# Replace the inconsistencies of city names\n",
    "df_order_customer['customer_city'] = df_order_customer['customer_city'].replace(map_city_names)\n",
    "df_order_customer['customer_city'].value_counts()"
   ]
  },
  {
   "cell_type": "code",
   "execution_count": 309,
   "metadata": {},
   "outputs": [
    {
     "data": {
      "text/plain": [
       "seller_city\n",
       "sao paulo              695\n",
       "curitiba               127\n",
       "rio de janeiro          96\n",
       "belo horizonte          68\n",
       "ribeirao preto          52\n",
       "                      ... \n",
       "pirassununga             1\n",
       "taruma                   1\n",
       "s jose do rio preto      1\n",
       "domingos martins         1\n",
       "leme                     1\n",
       "Name: count, Length: 607, dtype: int64"
      ]
     },
     "execution_count": 309,
     "metadata": {},
     "output_type": "execute_result"
    }
   ],
   "source": [
    "# On df_sellers\n",
    "# Standardize the characters\n",
    "standardize_chara(df_sellers, 'seller_city')\n",
    "\n",
    "# Replace the inconsistencies of city names\n",
    "df_sellers['seller_city'] = df_sellers['seller_city'].replace(map_city_names)\n",
    "df_sellers['seller_city'].value_counts()"
   ]
  },
  {
   "cell_type": "code",
   "execution_count": 310,
   "metadata": {},
   "outputs": [
    {
     "data": {
      "text/plain": [
       "array(['campinas', 'mogi guacu', 'rio de janeiro', 'sao paulo',\n",
       "       'braganca paulista', 'brejao', 'penapolis', 'curitiba', 'anapolis',\n",
       "       'itirapina', 'tubarao', 'lauro de freitas', 'imbituba', 'brasilia',\n",
       "       'porto seguro', 'guaruja', 'tabatinga', 'salto', 'tres de maio',\n",
       "       'belo horizonte', 'arapongas', 'sao bernardo do campo', 'tatui',\n",
       "       'garopaba', 'camanducaia', 'tupa', 'guarulhos',\n",
       "       'sao jose dos pinhais', 'sao ludgero', 'sao jose', 'piracicaba',\n",
       "       'porto alegre', 'congonhal', 'santo andre', 'osasco', 'valinhos',\n",
       "       'joinville', 'saquarema', 'barra velha', 'petropolis',\n",
       "       'santo antonio da patrulha', 'ponta grossa', 'santana de parnaiba',\n",
       "       'sao carlos', 'ibitinga', 'barueri', 'caxias do sul', 'araguari',\n",
       "       'contagem', 'jaragua do sul', 'lages  sc', 'bento goncalves',\n",
       "       'catanduva', 'ribeirao pires', 'jaboticabal', 'echapora', 'cotia',\n",
       "       'rio do sul', 'sorocaba', 'pradopolis', 'itaborai', 'mirassol',\n",
       "       'birigui', 'assis', 'jaguariuna', 'araraquara', 'macae',\n",
       "       'rio claro', 'londrina', 'ribeirao preto', 'tres coracoes',\n",
       "       'nhandeara', 'orleans', 'cuiaba', 'formosa do oeste', 'santos',\n",
       "       'santa terezinha de goias', 'arvorezinha', 'guiricema', 'caruaru',\n",
       "       'franca', 'salvador', 'diadema', 'itaquaquecetuba',\n",
       "       'lencois paulista', 'carapicuiba', 'uruacu', 'itajai', 'loanda',\n",
       "       'maringa', 'ferraz de vasconcelos', 'limeira', 'claudio',\n",
       "       'niteroi', 'osvaldo cruz', 'sao goncalo', 'jaciara',\n",
       "       'balenario camboriu', 'timbo', 'jacutinga', 'fortaleza',\n",
       "       'mirandopolis', 'bauru', 'jacarei', 'itu', 'laranjeiras do sul',\n",
       "       'videira', 'florianopolis', 'itapecerica da serra', 'mamanguape',\n",
       "       'ponte nova', 'goioere', 'pederneiras', 'itapevi', 'goiania',\n",
       "       'campina grande', 'estancia velha', 'resende', 'maua', 'caratinga',\n",
       "       'auriflama/sp', 'cafelandia', 'uba', 'sao paulo / sao paulo',\n",
       "       'sao jose do rio preto', 'porto ferreira', 'tres coroas',\n",
       "       'blumenau', 'mogi das cruzes', 'jaci', 'laranjal paulista',\n",
       "       'americana', 'sertanopolis', 'apucarana', 'colombo',\n",
       "       'vicente de carvalho', 'mesquita', 'sao pauo', 'cascavel',\n",
       "       'fazenda rio grande', 'taboao da serra', 'sao jose dos campos',\n",
       "       'toledo', 'marechal candido rondon', 'jundiai', 'mandirituba',\n",
       "       'suzano', 'vespasiano', 'santa rosa', 'sao joaquim da barra',\n",
       "       'santo antonio de posse', 'uruguaiana', 'campanha', 'piracanjuba',\n",
       "       'concordia', 'santa rita do sapucai', 'barretos', 'indaiatuba',\n",
       "       'nilopolis', 'pompeia', 'barro alto', 'são paulo', 'praia grande',\n",
       "       'luiz alves', 'brusque', 'criciuma', 'jales', 'atibaia',\n",
       "       'rio branco', 'barra mansa', 'marilia', 'bahia', 'taubate',\n",
       "       'cascavael', 'monteiro lobato', 'viana', 'paraiba do sul',\n",
       "       'mococa', 'sao roque', 'passos', 'francisco beltrao', 'tocantins',\n",
       "       'porto belo', 'nova iguacu', 'icara', 'lajeado', 'horizontina',\n",
       "       'votorantim', 'campo bom', 'monte alto', 'fernandopolis',\n",
       "       'pedreira', 'poa', 'divinopolis', 'santa barbara d´oeste',\n",
       "       'canoas', 'mombuca', 'sete lagoas', 'campo do meio',\n",
       "       'cordeiropolis', 'uberlandia', 'santa barbara d oeste',\n",
       "       'volta redonda', '04482255', 'aracatuba', 'monte siao', 'garuva',\n",
       "       'bonfinopolis de minas', 'cosmopolis', 'pocos de caldas',\n",
       "       'artur nogueira', 'joao pessoa', 'dois corregos', 'araquari',\n",
       "       'novo hamburgo, rio grande do sul, brasil', 'floranopolis',\n",
       "       'sumare', 'guaira', 'cachoeiro de itapemirim', 'serrana',\n",
       "       'rolandia', 'congonhas', 'boituva', 'mairipora', 'guaimbe',\n",
       "       'parai', 'aperibe', 'jaguaruna', 'vila velha', 'juiz de fora',\n",
       "       'fronteira', 'novo horizonte', 'pilar do sul', 'itajobi',\n",
       "       'cariacica / es', 'prados', 'mucambo', 'montes claros', 'vicosa',\n",
       "       'porto velho', 'sao jose do rio pardo', 'pato branco',\n",
       "       'sao joao del rei', 'presidente prudente', 'paracambi',\n",
       "       'serra negra', 'sao caetano do sul', 'bom jardim', 'serra redonda',\n",
       "       'sao francisco do sul', 'betim', 'imbituva', 'guaratuba',\n",
       "       'teresina', 'sao miguel d oeste', 'california', 'japira',\n",
       "       'foz do iguacu', 'nova friburgo', 'itau de minas', 'oliveira',\n",
       "       'sabara', 'pedrinhas paulista', 'votuporanga', 'holambra',\n",
       "       'ararangua', 'pinhais', 'pato bragado', 'carazinho', 'arinos',\n",
       "       'sao pedro', 'lages', 'ampere', 'itauna', 'mogi mirim',\n",
       "       'curitibanos', 'brasilia df', 'mogi das cruses', 'hortolandia',\n",
       "       'ipatinga', 'laguna', 'dores de campos', 'sao paulo  sp', 'araras',\n",
       "       'divisa nova', 'igaracu do tiete', 'pitangueiras', 'campo grande',\n",
       "       'garca', 'presidente epitacio', 'sbc/sp',\n",
       "       'arraial d ajuda (porto seguro)', 'pacatuba', 'formosa',\n",
       "       'borda da mata', 'ubatuba', 'entre rios do oeste', 'formiga',\n",
       "       'venancio aires', 'navegantes', 'cruzeiro', 'santa maria',\n",
       "       'muriae', 'santo andre/sao paulo', 'ipe', 'messias targino',\n",
       "       'varginha', 'botucatu', 'domingos martins', 'uberaba',\n",
       "       'coronel fabriciano', 'cachoeirinha', 's jose do rio preto',\n",
       "       'taruma', 'pirassununga', 'aruja', 'sp / sp', 'angra dos reis',\n",
       "       'juzeiro do norte', 'laurentino', 'flores da cunha', 'montenegro',\n",
       "       'pedregulho', 'novo hamburgo', 'torres', 'aracaju',\n",
       "       'santa catarina', 'joao pinheiro', 'bady bassitt', 'sinop',\n",
       "       'guarapuava', 'araucaria', 'vitoria', 'batatais', 'lagoa santa',\n",
       "       'chapeco', 'umuarama', 'belford roxo', 'cariacica',\n",
       "       'monte alegre do sul', 'sau paulo', 'lagoa da prata', 'rolante',\n",
       "       'teresopolis', 'itaporanga', 'campo largo', 'sao joao de meriti',\n",
       "       'maua/sao paulo', 'bom jesus dos perdoes', 'brotas', 'irece',\n",
       "       'coxim', 'jau', 'conselheiro lafaiete', 'amparo',\n",
       "       'sao miguel do oeste', 'gaspar', 'rio bonito', 'mandaguari',\n",
       "       'vargem grande paulista', 'conchal', 'cambe', 'marialva',\n",
       "       'alfenas', 'balneario camboriu', 'palhoca', 'sao bernardo do capo',\n",
       "       'guara', 'colatina', 'franco da rocha', 'lambari',\n",
       "       'mogi das cruzes / sp', 'treze tilias',\n",
       "       'rio de janeiro \\\\rio de janeiro', 'paulo lopes', 'santa cecilia',\n",
       "       'braco do norte', 'floresta', 'farroupilha', 'castro', 'luziania',\n",
       "       'joao monlevade', 'pelotas', 'sao bento', 'campos dos goytacazes',\n",
       "       'ouro fino', 'sao jose dos pinhas', 'tiete', 'viamao', 'janauba',\n",
       "       'capivari', 'santa terezinha de itaipu', 'igrejinha',\n",
       "       'sao bento do sul', 'duque de caxias', 'araxa', 'canoinhas',\n",
       "       'recife', 'barbacena/ minas gerais', 'vera cruz', 'parnamirim',\n",
       "       'santo angelo', 'paincandu', 'tres rios', 'tanabi',\n",
       "       'portoferreira', 'itatiba', 'sarandi', 'cravinhos', 'morrinhos',\n",
       "       'bebedouro', 'almirante tamandare', 'bertioga', 'natal',\n",
       "       'belo horizont', 'ivoti', 'andira pr', 'cerqueira cesar',\n",
       "       'marapoama', 'imigrante', 'mairinque', 'sao paulo sp',\n",
       "       'rio de janeiro / rio de janeiro', 'andradas', 'sando andre',\n",
       "       'nova odessa', 'paulinia', 'extrema', 'olimpia',\n",
       "       'angra dos reis rj', 'ronda alta', 'sao vicente', 'pinhais/pr',\n",
       "       'portao', 'registro', 'ao bernardo do campo', 'carmo do cajuru',\n",
       "       'embu das artes', 'fernando prestes', 'castro pires',\n",
       "       'vargem grande do sul', 'campina das missoes',\n",
       "       'sao pedro da aldeia', 'miguelopolis', 'itapui', 'sbc', 'neopolis',\n",
       "       'mineiros do tiete', 'varzea paulista', 'nova lima', 'barbacena',\n",
       "       'caieiras', 'buritama', 'erechim', 'itapetininga', 'pinhalzinho',\n",
       "       'descalvado', 'pitanga', 'bage', 'taio', 'patos de minas',\n",
       "       'garulhos', 'jarinu', 'nova petropolis',\n",
       "       'ribeirao preto / sao paulo', 'camboriu', 'nova trento',\n",
       "       'sao luis', 'sao jose do rio pret', 'eusebio', 'itaipulandia',\n",
       "       'ipira', 'campo magro', 'tiradentes', 'sao paluo', 'baependi',\n",
       "       'embu guacu', 'paraiso do sul', 'aparecida', 'cataguases',\n",
       "       'bariri', 'abadia de goias', 'alambari', 'ji parana', 'vassouras',\n",
       "       'lorena', 'rodeio', 'louveira', 'guanhaes',\n",
       "       'santo antonio de padua', 'presidente getulio', 'campos novos',\n",
       "       'eunapolis', 'engenheiro coelho', 'rio das pedras',\n",
       "       'afonso claudio', 'carapicuiba / sao paulo', 'centro', 'parana',\n",
       "       'indaial', 'bombinhas', 'orlandia', 'itapeva', 'sao sebastiao',\n",
       "       'macatuba', 'sao joao da boa vista', 'teixeira soares',\n",
       "       'mandaguacu', 'rio do oeste', 'vendas@creditparts.com.br',\n",
       "       'armacao dos buzios', 'mateus leme', 'sao paulop',\n",
       "       'campo limpo paulista', 'socorro', 'serra', 'bocaiuva do sul',\n",
       "       'ilheus', 'imbe', 'soledade', 'cajamar', 'rio negrinho',\n",
       "       'clementina', 'francisco morato', 'rio grande', 'xaxim', 'manaus',\n",
       "       'terra boa', 'minas gerais', 'avare', 'ibirite',\n",
       "       'santa maria da serra', 'auriflama', 'condor', 'ibia', 'guanambi',\n",
       "       'caucaia', 'cordilheira alta', 'carmo da mata', 'ouro preto',\n",
       "       'pedro leopoldo', 'santa rosa de viterbo', 'xanxere',\n",
       "       'alvares machado', 'scao jose do rio pardo', 'ribeirao das neves',\n",
       "       'medianeira', 'massaranduba', 'cornelio procopio', 'pirituba',\n",
       "       'jambeiro', 'sao leopoldo', 'aguas claras df', 'ribeirao pretp',\n",
       "       'cianorte', 'feira de santana', 'cachoeira do sul', 'guariba',\n",
       "       'sao sebastiao da grama/sp', 'dracena', 'ourinhos',\n",
       "       'robeirao preto', 'cacador', 'gama', 'queimados', 'cananeia',\n",
       "       'presidente bernardes', 'pinhalao', 'sombrio', 'campo mourao',\n",
       "       'ilicinea', 'itabira', 'barrinha', 'jussara', 'uniao da vitoria',\n",
       "       'triunfo', 'santa cruz do sul', 'colorado', 'itapema', 'sapiranga',\n",
       "       'paranavai', 'alvorada', 'ipaussu', 'rio verde', 'mage',\n",
       "       'tabao da serra', 'bofete', 'picarras', 'marica', 'jaragua',\n",
       "       'governador valadares', 'rio de janeiro, rio de janeiro, brasil',\n",
       "       'pouso alegre', 'timoteo', 'muqui', 'ipua', 'jacarei / sao paulo',\n",
       "       'varzea alegre', 'guaratingueta', 'tambau', 'irati',\n",
       "       'riberao preto', 'aparecida de goiania', 'bandeirantes',\n",
       "       'vitoria de santo antao', 'palotina', 'leme'], dtype=object)"
      ]
     },
     "execution_count": 310,
     "metadata": {},
     "output_type": "execute_result"
    }
   ],
   "source": [
    "# Check the city names\n",
    "df_geolocation['geolocation_city'].unique()\n",
    "df_order_customer['customer_city'].unique()\n",
    "df_sellers['seller_city'].unique()"
   ]
  },
  {
   "attachments": {},
   "cell_type": "markdown",
   "metadata": {},
   "source": [
    "### OMITTED - This Correction Method is Too Time-Consuming (Not Performant Enough)"
   ]
  },
  {
   "cell_type": "code",
   "execution_count": 311,
   "metadata": {},
   "outputs": [],
   "source": [
    "# # Read the csv file\n",
    "# df_cities = pd.read_csv(\"cities.csv\")\n",
    "\n",
    "# # Drope the code column\n",
    "# df_cities = df_cities.drop('code', axis=1) \n",
    "\n",
    "# # standardize the writing\n",
    "# standardize_chara(df_cities, 'name')\n",
    "\n",
    "# # Define a list out of city names\n",
    "# city_names = df_cities['name'].to_list()\n",
    "# city_names"
   ]
  },
  {
   "cell_type": "code",
   "execution_count": 312,
   "metadata": {},
   "outputs": [],
   "source": [
    "# # Create a function to correct the typo w/ fuzzywuzzy\n",
    "# def correct_typo(name, reference):\n",
    "#     for correct_name in reference:\n",
    "#         percent_match_to_correct = fuzz.ratio(correct_name, name)\n",
    "#         if percent_match_to_correct > 80:\n",
    "#             name = correct_name\n",
    "#     return name"
   ]
  },
  {
   "cell_type": "code",
   "execution_count": 313,
   "metadata": {},
   "outputs": [],
   "source": [
    "# # Test the function\n",
    "# name_test_1 = 'sao pauli'\n",
    "\n",
    "# name_res_1 = correct_typo(name_test_1, reference=city_names)\n",
    "# name_res_1"
   ]
  },
  {
   "cell_type": "code",
   "execution_count": 314,
   "metadata": {},
   "outputs": [],
   "source": [
    "# df_geolocation['geolocation_city'] = df_geolocation['geolocation_city'].apply(correct_typo, reference=city_names)"
   ]
  },
  {
   "cell_type": "code",
   "execution_count": 69,
   "metadata": {},
   "outputs": [],
   "source": [
    "# df_geolocation.to_csv('df_geolocation_test.csv')"
   ]
  },
  {
   "attachments": {},
   "cell_type": "markdown",
   "metadata": {},
   "source": [
    "# 6. Analyzing Data"
   ]
  },
  {
   "cell_type": "markdown",
   "metadata": {},
   "source": []
  }
 ],
 "metadata": {
  "kernelspec": {
   "display_name": "venv",
   "language": "python",
   "name": "python3"
  },
  "language_info": {
   "codemirror_mode": {
    "name": "ipython",
    "version": 3
   },
   "file_extension": ".py",
   "mimetype": "text/x-python",
   "name": "python",
   "nbconvert_exporter": "python",
   "pygments_lexer": "ipython3",
   "version": "3.10.5"
  },
  "orig_nbformat": 4
 },
 "nbformat": 4,
 "nbformat_minor": 2
}
