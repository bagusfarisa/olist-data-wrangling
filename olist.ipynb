{
 "cells": [
  {
   "cell_type": "code",
   "execution_count": 453,
   "metadata": {},
   "outputs": [],
   "source": [
    "import sqlite3 as db\n",
    "import pandas as pd\n",
    "import seaborn as sns\n",
    "import numpy as np\n",
    "import sys\n",
    "from nltk.metrics import edit_distance\n",
    "from fuzzywuzzy import fuzz\n",
    "\n"
   ]
  },
  {
   "cell_type": "code",
   "execution_count": 454,
   "metadata": {},
   "outputs": [],
   "source": [
    "np.set_printoptions(threshold=sys.maxsize) # to show the full list of array"
   ]
  },
  {
   "cell_type": "code",
   "execution_count": 455,
   "metadata": {},
   "outputs": [],
   "source": [
    "#connect to database or create if doesn't exist\n",
    "'''\n",
    "File untuk setiap akun google bisa jadi berbeda jadi gunakan copy path untuk mempermudah\n",
    "\n",
    "'''\n",
    "conn = db.connect('olist.db')"
   ]
  },
  {
   "cell_type": "code",
   "execution_count": 456,
   "metadata": {},
   "outputs": [],
   "source": [
    "#Perform SQL query and return pandas data frame\n",
    "df_geolocation = pd.read_sql_query (\n",
    "\"\"\"\n",
    "SELECT * \n",
    "FROM olist_geolocation_dataset;\n",
    "\"\"\" ,conn)\n",
    "\n",
    "df_order_customer = pd.read_sql_query (\n",
    "\"\"\"\n",
    "SELECT * \n",
    "FROM olist_order_customer_dataset;\n",
    "\"\"\" ,conn)\n",
    "\n",
    "df_order = pd.read_sql_query (\n",
    "\"\"\"\n",
    "SELECT * \n",
    "FROM olist_order_dataset;\n",
    "\"\"\" ,conn)\n",
    "\n",
    "df_order_items = pd.read_sql_query (\n",
    "\"\"\"\n",
    "SELECT * \n",
    "FROM olist_order_items_dataset;\n",
    "\"\"\" ,conn)\n",
    "\n",
    "df_order_payments = pd.read_sql_query (\n",
    "\"\"\"\n",
    "SELECT * \n",
    "FROM olist_order_payments_dataset;\n",
    "\"\"\" ,conn)\n",
    "\n",
    "df_order_reviews = pd.read_sql_query (\n",
    "\"\"\"\n",
    "SELECT * \n",
    "FROM olist_order_reviews_dataset;\n",
    "\"\"\" ,conn)\n",
    "\n",
    "df_products = pd.read_sql_query (\n",
    "\"\"\"\n",
    "SELECT * \n",
    "FROM olist_products_dataset;\n",
    "\"\"\" ,conn)\n",
    "\n",
    "df_sellers = pd.read_sql_query (\n",
    "\"\"\"\n",
    "SELECT * \n",
    "FROM olist_sellers_dataset;\n",
    "\"\"\" ,conn)\n",
    "\n",
    "df_product_cat_name_transl = pd.read_sql_query (\n",
    "\"\"\"\n",
    "SELECT * \n",
    "FROM product_category_name_translation;\n",
    "\"\"\" ,conn)"
   ]
  },
  {
   "cell_type": "code",
   "execution_count": 457,
   "metadata": {},
   "outputs": [
    {
     "data": {
      "text/html": [
       "<div>\n",
       "<style scoped>\n",
       "    .dataframe tbody tr th:only-of-type {\n",
       "        vertical-align: middle;\n",
       "    }\n",
       "\n",
       "    .dataframe tbody tr th {\n",
       "        vertical-align: top;\n",
       "    }\n",
       "\n",
       "    .dataframe thead th {\n",
       "        text-align: right;\n",
       "    }\n",
       "</style>\n",
       "<table border=\"1\" class=\"dataframe\">\n",
       "  <thead>\n",
       "    <tr style=\"text-align: right;\">\n",
       "      <th></th>\n",
       "      <th>index</th>\n",
       "      <th>product_category_name</th>\n",
       "      <th>product_category_name_english</th>\n",
       "    </tr>\n",
       "  </thead>\n",
       "  <tbody>\n",
       "    <tr>\n",
       "      <th>0</th>\n",
       "      <td>0</td>\n",
       "      <td>beleza_saude</td>\n",
       "      <td>health_beauty</td>\n",
       "    </tr>\n",
       "    <tr>\n",
       "      <th>1</th>\n",
       "      <td>1</td>\n",
       "      <td>informatica_acessorios</td>\n",
       "      <td>computers_accessories</td>\n",
       "    </tr>\n",
       "    <tr>\n",
       "      <th>2</th>\n",
       "      <td>2</td>\n",
       "      <td>automotivo</td>\n",
       "      <td>auto</td>\n",
       "    </tr>\n",
       "    <tr>\n",
       "      <th>3</th>\n",
       "      <td>3</td>\n",
       "      <td>cama_mesa_banho</td>\n",
       "      <td>bed_bath_table</td>\n",
       "    </tr>\n",
       "    <tr>\n",
       "      <th>4</th>\n",
       "      <td>4</td>\n",
       "      <td>moveis_decoracao</td>\n",
       "      <td>furniture_decor</td>\n",
       "    </tr>\n",
       "  </tbody>\n",
       "</table>\n",
       "</div>"
      ],
      "text/plain": [
       "   index   product_category_name product_category_name_english\n",
       "0      0            beleza_saude                 health_beauty\n",
       "1      1  informatica_acessorios         computers_accessories\n",
       "2      2              automotivo                          auto\n",
       "3      3         cama_mesa_banho                bed_bath_table\n",
       "4      4        moveis_decoracao               furniture_decor"
      ]
     },
     "execution_count": 457,
     "metadata": {},
     "output_type": "execute_result"
    }
   ],
   "source": [
    "df_product_cat_name_transl.head()"
   ]
  },
  {
   "attachments": {},
   "cell_type": "markdown",
   "metadata": {},
   "source": [
    "# 1. Handling Mismatched Datetime Data Type"
   ]
  },
  {
   "attachments": {},
   "cell_type": "markdown",
   "metadata": {},
   "source": [
    "## 1.A. Identifying the mismatch"
   ]
  },
  {
   "cell_type": "code",
   "execution_count": 458,
   "metadata": {},
   "outputs": [
    {
     "data": {
      "text/plain": [
       "index                            int64\n",
       "geolocation_zip_code_prefix      int64\n",
       "geolocation_lat                float64\n",
       "geolocation_lng                float64\n",
       "geolocation_city                object\n",
       "geolocation_state               object\n",
       "dtype: object"
      ]
     },
     "execution_count": 458,
     "metadata": {},
     "output_type": "execute_result"
    }
   ],
   "source": [
    "df_geolocation.dtypes # all good"
   ]
  },
  {
   "cell_type": "code",
   "execution_count": 459,
   "metadata": {},
   "outputs": [
    {
     "data": {
      "text/plain": [
       "index                        int64\n",
       "customer_id                 object\n",
       "customer_unique_id          object\n",
       "customer_zip_code_prefix     int64\n",
       "customer_city               object\n",
       "customer_state              object\n",
       "dtype: object"
      ]
     },
     "execution_count": 459,
     "metadata": {},
     "output_type": "execute_result"
    }
   ],
   "source": [
    "df_order_customer.dtypes # all good"
   ]
  },
  {
   "cell_type": "code",
   "execution_count": 460,
   "metadata": {},
   "outputs": [
    {
     "data": {
      "text/plain": [
       "index                             int64\n",
       "order_id                         object\n",
       "customer_id                      object\n",
       "order_status                     object\n",
       "order_purchase_timestamp         object\n",
       "order_approved_at                object\n",
       "order_delivered_carrier_date     object\n",
       "order_delivered_customer_date    object\n",
       "order_estimated_delivery_date    object\n",
       "dtype: object"
      ]
     },
     "execution_count": 460,
     "metadata": {},
     "output_type": "execute_result"
    }
   ],
   "source": [
    "df_order.dtypes # several variables' data type need to be changed "
   ]
  },
  {
   "cell_type": "code",
   "execution_count": 461,
   "metadata": {},
   "outputs": [
    {
     "data": {
      "text/plain": [
       "index                    int64\n",
       "order_id                object\n",
       "order_item_id            int64\n",
       "product_id              object\n",
       "seller_id               object\n",
       "shipping_limit_date     object\n",
       "price                  float64\n",
       "freight_value          float64\n",
       "dtype: object"
      ]
     },
     "execution_count": 461,
     "metadata": {},
     "output_type": "execute_result"
    }
   ],
   "source": [
    "df_order_items.dtypes # shipping_limit_date data type need to be changed"
   ]
  },
  {
   "cell_type": "code",
   "execution_count": 462,
   "metadata": {},
   "outputs": [
    {
     "data": {
      "text/plain": [
       "index                     int64\n",
       "order_id                 object\n",
       "payment_sequential        int64\n",
       "payment_type             object\n",
       "payment_installments      int64\n",
       "payment_value           float64\n",
       "dtype: object"
      ]
     },
     "execution_count": 462,
     "metadata": {},
     "output_type": "execute_result"
    }
   ],
   "source": [
    "df_order_payments.dtypes # all good"
   ]
  },
  {
   "cell_type": "code",
   "execution_count": 463,
   "metadata": {},
   "outputs": [
    {
     "data": {
      "text/plain": [
       "index                       int64\n",
       "review_id                  object\n",
       "order_id                   object\n",
       "review_score                int64\n",
       "review_comment_title       object\n",
       "review_comment_message     object\n",
       "review_creation_date       object\n",
       "review_answer_timestamp    object\n",
       "dtype: object"
      ]
     },
     "execution_count": 463,
     "metadata": {},
     "output_type": "execute_result"
    }
   ],
   "source": [
    "df_order_reviews.dtypes # date related variables need to be changed to date"
   ]
  },
  {
   "cell_type": "code",
   "execution_count": 464,
   "metadata": {},
   "outputs": [
    {
     "data": {
      "text/plain": [
       "index                           int64\n",
       "product_id                     object\n",
       "product_category_name          object\n",
       "product_name_lenght           float64\n",
       "product_description_lenght    float64\n",
       "product_photos_qty            float64\n",
       "product_weight_g              float64\n",
       "product_length_cm             float64\n",
       "product_height_cm             float64\n",
       "product_width_cm              float64\n",
       "dtype: object"
      ]
     },
     "execution_count": 464,
     "metadata": {},
     "output_type": "execute_result"
    }
   ],
   "source": [
    "df_products.dtypes # all good"
   ]
  },
  {
   "cell_type": "code",
   "execution_count": 465,
   "metadata": {},
   "outputs": [
    {
     "data": {
      "text/plain": [
       "index                      int64\n",
       "seller_id                 object\n",
       "seller_zip_code_prefix     int64\n",
       "seller_city               object\n",
       "seller_state              object\n",
       "dtype: object"
      ]
     },
     "execution_count": 465,
     "metadata": {},
     "output_type": "execute_result"
    }
   ],
   "source": [
    "df_sellers.dtypes # all good"
   ]
  },
  {
   "cell_type": "code",
   "execution_count": 466,
   "metadata": {},
   "outputs": [
    {
     "data": {
      "text/plain": [
       "index                             int64\n",
       "product_category_name            object\n",
       "product_category_name_english    object\n",
       "dtype: object"
      ]
     },
     "execution_count": 466,
     "metadata": {},
     "output_type": "execute_result"
    }
   ],
   "source": [
    "df_product_cat_name_transl.dtypes # all good"
   ]
  },
  {
   "attachments": {},
   "cell_type": "markdown",
   "metadata": {},
   "source": [
    "#### Key Highlight(s):\n",
    "1. The dataframes that need to be handled are:\n",
    "   1. df_order\n",
    "   2. df_order_items\n",
    "   3. df_order_reviews"
   ]
  },
  {
   "attachments": {},
   "cell_type": "markdown",
   "metadata": {},
   "source": [
    "## 1.B. Handling the mismatch"
   ]
  },
  {
   "cell_type": "code",
   "execution_count": 467,
   "metadata": {},
   "outputs": [],
   "source": [
    "# On df_order\n",
    "# Change the data type from str to datetime\n",
    "df_order['order_purchase_timestamp'] = pd.to_datetime(df_order['order_purchase_timestamp'], format='%Y-%m-%d %H:%M:%S')\n",
    "df_order['order_approved_at'] = pd.to_datetime(df_order['order_approved_at'], format='%Y-%m-%d %H:%M:%S')\n",
    "df_order['order_delivered_carrier_date'] = pd.to_datetime(df_order['order_delivered_carrier_date'], format='%Y-%m-%d %H:%M:%S')\n",
    "df_order['order_delivered_customer_date'] = pd.to_datetime(df_order['order_delivered_customer_date'], format='%Y-%m-%d %H:%M:%S')\n",
    "df_order['order_estimated_delivery_date'] = pd.to_datetime(df_order['order_estimated_delivery_date'], format='%Y-%m-%d %H:%M:%S')"
   ]
  },
  {
   "cell_type": "code",
   "execution_count": 468,
   "metadata": {},
   "outputs": [],
   "source": [
    "# On df_order_items\n",
    "# Change the data type from str to datetime\n",
    "df_order_items['shipping_limit_date'] = pd.to_datetime(df_order_items['shipping_limit_date'], format='%Y-%m-%d %H:%M:%S')"
   ]
  },
  {
   "cell_type": "code",
   "execution_count": 469,
   "metadata": {},
   "outputs": [],
   "source": [
    "# On df_order_reviews\n",
    "# Change the data type from str to datetime\n",
    "df_order_reviews['review_creation_date'] = pd.to_datetime(df_order_reviews['review_creation_date'], format='%Y-%m-%d %H:%M:%S')\n",
    "df_order_reviews['review_answer_timestamp'] = pd.to_datetime(df_order_reviews['review_answer_timestamp'], format='%Y-%m-%d %H:%M:%S')"
   ]
  },
  {
   "attachments": {},
   "cell_type": "markdown",
   "metadata": {},
   "source": [
    "# 2. Handling Missing Values"
   ]
  },
  {
   "attachments": {},
   "cell_type": "markdown",
   "metadata": {},
   "source": [
    "## 2.A. Identifying missing values of each dataframe"
   ]
  },
  {
   "cell_type": "code",
   "execution_count": 470,
   "metadata": {},
   "outputs": [
    {
     "data": {
      "text/plain": [
       "index                          0.0\n",
       "geolocation_zip_code_prefix    0.0\n",
       "geolocation_lat                0.0\n",
       "geolocation_lng                0.0\n",
       "geolocation_city               0.0\n",
       "geolocation_state              0.0\n",
       "dtype: float64"
      ]
     },
     "execution_count": 470,
     "metadata": {},
     "output_type": "execute_result"
    }
   ],
   "source": [
    "# Summarry of Missing Values in df_geolocation\n",
    "df_geolocation.isna().sum()/len(df_geolocation)*100"
   ]
  },
  {
   "cell_type": "code",
   "execution_count": 471,
   "metadata": {},
   "outputs": [
    {
     "data": {
      "text/plain": [
       "index                       0.0\n",
       "customer_id                 0.0\n",
       "customer_unique_id          0.0\n",
       "customer_zip_code_prefix    0.0\n",
       "customer_city               0.0\n",
       "customer_state              0.0\n",
       "dtype: float64"
      ]
     },
     "execution_count": 471,
     "metadata": {},
     "output_type": "execute_result"
    }
   ],
   "source": [
    "# Summarry of Missing Values in df_order_customer\n",
    "df_order_customer.isna().sum()/len(df_order_customer)*100"
   ]
  },
  {
   "cell_type": "code",
   "execution_count": 472,
   "metadata": {},
   "outputs": [
    {
     "data": {
      "text/plain": [
       "index                            0.000000\n",
       "order_id                         0.000000\n",
       "customer_id                      0.000000\n",
       "order_status                     0.000000\n",
       "order_purchase_timestamp         0.000000\n",
       "order_approved_at                0.160899\n",
       "order_delivered_carrier_date     1.793023\n",
       "order_delivered_customer_date    2.981668\n",
       "order_estimated_delivery_date    0.000000\n",
       "dtype: float64"
      ]
     },
     "execution_count": 472,
     "metadata": {},
     "output_type": "execute_result"
    }
   ],
   "source": [
    "# Summarry of Missing Values in df_order\n",
    "df_order.isna().sum()/len(df_order)*100"
   ]
  },
  {
   "cell_type": "code",
   "execution_count": 473,
   "metadata": {},
   "outputs": [
    {
     "data": {
      "text/plain": [
       "index                  0.0\n",
       "order_id               0.0\n",
       "order_item_id          0.0\n",
       "product_id             0.0\n",
       "seller_id              0.0\n",
       "shipping_limit_date    0.0\n",
       "price                  0.0\n",
       "freight_value          0.0\n",
       "dtype: float64"
      ]
     },
     "execution_count": 473,
     "metadata": {},
     "output_type": "execute_result"
    }
   ],
   "source": [
    "# Summarry of Missing Values in df_order_items\n",
    "df_order_items.isna().sum()/len(df_order_items)*100"
   ]
  },
  {
   "cell_type": "code",
   "execution_count": 474,
   "metadata": {},
   "outputs": [
    {
     "data": {
      "text/plain": [
       "index                   0.0\n",
       "order_id                0.0\n",
       "payment_sequential      0.0\n",
       "payment_type            0.0\n",
       "payment_installments    0.0\n",
       "payment_value           0.0\n",
       "dtype: float64"
      ]
     },
     "execution_count": 474,
     "metadata": {},
     "output_type": "execute_result"
    }
   ],
   "source": [
    "# Summarry of Missing Values in df_order_payments\n",
    "df_order_payments.isna().sum()/len(df_order_payments)*100\n"
   ]
  },
  {
   "cell_type": "code",
   "execution_count": 475,
   "metadata": {},
   "outputs": [
    {
     "data": {
      "text/plain": [
       "index                       0.000000\n",
       "review_id                   0.000000\n",
       "order_id                    0.000000\n",
       "review_score                0.000000\n",
       "review_comment_title       88.341530\n",
       "review_comment_message     58.702532\n",
       "review_creation_date        0.000000\n",
       "review_answer_timestamp     0.000000\n",
       "dtype: float64"
      ]
     },
     "execution_count": 475,
     "metadata": {},
     "output_type": "execute_result"
    }
   ],
   "source": [
    "# Summarry of Missing Values in df_order_reviews\n",
    "df_order_reviews.isna().sum()/len(df_order_reviews)*100"
   ]
  },
  {
   "cell_type": "code",
   "execution_count": 476,
   "metadata": {},
   "outputs": [
    {
     "data": {
      "text/plain": [
       "index                         0.000000\n",
       "product_id                    0.000000\n",
       "product_category_name         1.851234\n",
       "product_name_lenght           1.851234\n",
       "product_description_lenght    1.851234\n",
       "product_photos_qty            1.851234\n",
       "product_weight_g              0.006070\n",
       "product_length_cm             0.006070\n",
       "product_height_cm             0.006070\n",
       "product_width_cm              0.006070\n",
       "dtype: float64"
      ]
     },
     "execution_count": 476,
     "metadata": {},
     "output_type": "execute_result"
    }
   ],
   "source": [
    "# Summarry of Missing Values in df_products\n",
    "df_products.isna().sum()/len(df_products)*100"
   ]
  },
  {
   "cell_type": "code",
   "execution_count": 477,
   "metadata": {},
   "outputs": [
    {
     "data": {
      "text/plain": [
       "index                     0.0\n",
       "seller_id                 0.0\n",
       "seller_zip_code_prefix    0.0\n",
       "seller_city               0.0\n",
       "seller_state              0.0\n",
       "dtype: float64"
      ]
     },
     "execution_count": 477,
     "metadata": {},
     "output_type": "execute_result"
    }
   ],
   "source": [
    "# Summarry of Missing Values in df_sellers\n",
    "df_sellers.isna().sum()/len(df_sellers)*100"
   ]
  },
  {
   "cell_type": "code",
   "execution_count": 478,
   "metadata": {},
   "outputs": [
    {
     "data": {
      "text/plain": [
       "index                            0.0\n",
       "product_category_name            0.0\n",
       "product_category_name_english    0.0\n",
       "dtype: float64"
      ]
     },
     "execution_count": 478,
     "metadata": {},
     "output_type": "execute_result"
    }
   ],
   "source": [
    "# Summarry of Missing Values in df_product_cat_name_transl\n",
    "df_product_cat_name_transl.isna().sum()/len(df_product_cat_name_transl)*100"
   ]
  },
  {
   "attachments": {},
   "cell_type": "markdown",
   "metadata": {},
   "source": [
    "#### Key Highlight(s):\n",
    "1. The dataframes that need to be handled are:\n",
    "   1. df_order\n",
    "   2. df_order_reviews\n",
    "   3. df_products"
   ]
  },
  {
   "attachments": {},
   "cell_type": "markdown",
   "metadata": {},
   "source": [
    "## 2.B. Handling missing values according to each condition"
   ]
  },
  {
   "cell_type": "code",
   "execution_count": 479,
   "metadata": {},
   "outputs": [
    {
     "data": {
      "text/plain": [
       "index                            0.0\n",
       "order_id                         0.0\n",
       "customer_id                      0.0\n",
       "order_status                     0.0\n",
       "order_purchase_timestamp         0.0\n",
       "order_approved_at                0.0\n",
       "order_delivered_carrier_date     0.0\n",
       "order_delivered_customer_date    0.0\n",
       "order_estimated_delivery_date    0.0\n",
       "dtype: float64"
      ]
     },
     "execution_count": 479,
     "metadata": {},
     "output_type": "execute_result"
    }
   ],
   "source": [
    "# On df_order\n",
    "# Fill the missing value using backward fill (next observation carried backward:)\n",
    "# Assuming that the dates carried backward could estimate the actual date \n",
    "df_order[\"order_approved_at\"] = df_order[\"order_approved_at\"].bfill()\n",
    "df_order[\"order_delivered_carrier_date\"] = df_order[\"order_delivered_carrier_date\"].bfill()\n",
    "df_order[\"order_delivered_customer_date\"] = df_order[\"order_delivered_customer_date\"].bfill()\n",
    "\n",
    "# Check the current condition\n",
    "df_order.isna().sum()/len(df_order)*100"
   ]
  },
  {
   "cell_type": "code",
   "execution_count": 480,
   "metadata": {},
   "outputs": [
    {
     "data": {
      "text/plain": [
       "index                      0.0\n",
       "review_id                  0.0\n",
       "order_id                   0.0\n",
       "review_score               0.0\n",
       "review_creation_date       0.0\n",
       "review_answer_timestamp    0.0\n",
       "dtype: float64"
      ]
     },
     "execution_count": 480,
     "metadata": {},
     "output_type": "execute_result"
    }
   ],
   "source": [
    "# On df_order_reviews\n",
    "# The column with missing values are dropped\n",
    "# The data is not used (mot running sentiment analysis)\n",
    "df_order_reviews = df_order_reviews.drop(['review_comment_title', 'review_comment_message'], axis=1)\n",
    "\n",
    "# Check the current condition\n",
    "df_order_reviews.isna().sum()/len(df_order_reviews)*100"
   ]
  },
  {
   "cell_type": "code",
   "execution_count": 481,
   "metadata": {},
   "outputs": [
    {
     "data": {
      "text/plain": [
       "index                         0.0\n",
       "product_id                    0.0\n",
       "product_category_name         0.0\n",
       "product_name_lenght           0.0\n",
       "product_description_lenght    0.0\n",
       "product_photos_qty            0.0\n",
       "product_weight_g              0.0\n",
       "product_length_cm             0.0\n",
       "product_height_cm             0.0\n",
       "product_width_cm              0.0\n",
       "dtype: float64"
      ]
     },
     "execution_count": 481,
     "metadata": {},
     "output_type": "execute_result"
    }
   ],
   "source": [
    "# On df_products\n",
    "# The missing values are filled accordingly\n",
    "mod_product_category_name = df_products[\"product_category_name\"].mode()[0] # get the mode\n",
    "df_products[\"product_category_name\"] = df_products[\"product_category_name\"].fillna(mod_product_category_name) # fill w/ mode\n",
    "\n",
    "med_product_name_lenght = df_products[\"product_name_lenght\"].median() # get the median\n",
    "df_products[\"product_name_lenght\"] = df_products[\"product_name_lenght\"].fillna(med_product_name_lenght) # fill w/ median\n",
    "\n",
    "med_product_desc_lenght = df_products[\"product_description_lenght\"].median() # get the median\n",
    "df_products[\"product_description_lenght\"] = df_products[\"product_description_lenght\"].fillna(med_product_desc_lenght) # fill w/ median\n",
    "\n",
    "med_photos_qty = df_products[\"product_photos_qty\"].median() # get the median\n",
    "df_products[\"product_photos_qty\"] = df_products[\"product_photos_qty\"].fillna(med_photos_qty) # fill w/ median\n",
    "\n",
    "med_weight_g = df_products[\"product_weight_g\"].median() # get the median\n",
    "df_products[\"product_weight_g\"] = df_products[\"product_weight_g\"].fillna(med_weight_g) # fill w/ median\n",
    "\n",
    "med_length_cm = df_products[\"product_length_cm\"].median() # get the median\n",
    "df_products[\"product_length_cm\"] = df_products[\"product_length_cm\"].fillna(med_length_cm) # fill w/ median\n",
    "\n",
    "med_height_cm = df_products[\"product_height_cm\"].median() # get the median\n",
    "df_products[\"product_height_cm\"] = df_products[\"product_height_cm\"].fillna(med_height_cm) # fill w/ median\n",
    "\n",
    "med_width_cm = df_products[\"product_width_cm\"].median() # get the median\n",
    "df_products[\"product_width_cm\"] = df_products[\"product_width_cm\"].fillna(med_width_cm) # fill w/ median\n",
    "\n",
    "df_products.isna().sum()/len(df_products)*100"
   ]
  },
  {
   "attachments": {},
   "cell_type": "markdown",
   "metadata": {},
   "source": [
    "# 3. Handling Outlier"
   ]
  },
  {
   "attachments": {},
   "cell_type": "markdown",
   "metadata": {},
   "source": [
    "## 3.A. Identifying outlier"
   ]
  },
  {
   "cell_type": "code",
   "execution_count": 482,
   "metadata": {},
   "outputs": [
    {
     "data": {
      "text/html": [
       "<div>\n",
       "<style scoped>\n",
       "    .dataframe tbody tr th:only-of-type {\n",
       "        vertical-align: middle;\n",
       "    }\n",
       "\n",
       "    .dataframe tbody tr th {\n",
       "        vertical-align: top;\n",
       "    }\n",
       "\n",
       "    .dataframe thead th {\n",
       "        text-align: right;\n",
       "    }\n",
       "</style>\n",
       "<table border=\"1\" class=\"dataframe\">\n",
       "  <thead>\n",
       "    <tr style=\"text-align: right;\">\n",
       "      <th></th>\n",
       "      <th>index</th>\n",
       "      <th>payment_sequential</th>\n",
       "      <th>payment_installments</th>\n",
       "      <th>payment_value</th>\n",
       "    </tr>\n",
       "  </thead>\n",
       "  <tbody>\n",
       "    <tr>\n",
       "      <th>count</th>\n",
       "      <td>103886.00000</td>\n",
       "      <td>103886.000000</td>\n",
       "      <td>103886.000000</td>\n",
       "      <td>103886.000000</td>\n",
       "    </tr>\n",
       "    <tr>\n",
       "      <th>mean</th>\n",
       "      <td>51942.50000</td>\n",
       "      <td>1.092679</td>\n",
       "      <td>2.853349</td>\n",
       "      <td>154.100380</td>\n",
       "    </tr>\n",
       "    <tr>\n",
       "      <th>std</th>\n",
       "      <td>29989.44937</td>\n",
       "      <td>0.706584</td>\n",
       "      <td>2.687051</td>\n",
       "      <td>217.494064</td>\n",
       "    </tr>\n",
       "    <tr>\n",
       "      <th>min</th>\n",
       "      <td>0.00000</td>\n",
       "      <td>1.000000</td>\n",
       "      <td>0.000000</td>\n",
       "      <td>0.000000</td>\n",
       "    </tr>\n",
       "    <tr>\n",
       "      <th>25%</th>\n",
       "      <td>25971.25000</td>\n",
       "      <td>1.000000</td>\n",
       "      <td>1.000000</td>\n",
       "      <td>56.790000</td>\n",
       "    </tr>\n",
       "    <tr>\n",
       "      <th>50%</th>\n",
       "      <td>51942.50000</td>\n",
       "      <td>1.000000</td>\n",
       "      <td>1.000000</td>\n",
       "      <td>100.000000</td>\n",
       "    </tr>\n",
       "    <tr>\n",
       "      <th>75%</th>\n",
       "      <td>77913.75000</td>\n",
       "      <td>1.000000</td>\n",
       "      <td>4.000000</td>\n",
       "      <td>171.837500</td>\n",
       "    </tr>\n",
       "    <tr>\n",
       "      <th>max</th>\n",
       "      <td>103885.00000</td>\n",
       "      <td>29.000000</td>\n",
       "      <td>24.000000</td>\n",
       "      <td>13664.080000</td>\n",
       "    </tr>\n",
       "  </tbody>\n",
       "</table>\n",
       "</div>"
      ],
      "text/plain": [
       "              index  payment_sequential  payment_installments  payment_value\n",
       "count  103886.00000       103886.000000         103886.000000  103886.000000\n",
       "mean    51942.50000            1.092679              2.853349     154.100380\n",
       "std     29989.44937            0.706584              2.687051     217.494064\n",
       "min         0.00000            1.000000              0.000000       0.000000\n",
       "25%     25971.25000            1.000000              1.000000      56.790000\n",
       "50%     51942.50000            1.000000              1.000000     100.000000\n",
       "75%     77913.75000            1.000000              4.000000     171.837500\n",
       "max    103885.00000           29.000000             24.000000   13664.080000"
      ]
     },
     "execution_count": 482,
     "metadata": {},
     "output_type": "execute_result"
    }
   ],
   "source": [
    "# Indentify which data has outlier\n",
    "df_order_payments.describe() # outlier identified in paytment_value (max value is way further away from Q3)"
   ]
  },
  {
   "cell_type": "code",
   "execution_count": 483,
   "metadata": {},
   "outputs": [
    {
     "data": {
      "text/plain": [
       "<Axes: xlabel='payment_value', ylabel='Count'>"
      ]
     },
     "execution_count": 483,
     "metadata": {},
     "output_type": "execute_result"
    },
    {
     "data": {
      "image/png": "[encoded data removed]",
      "text/plain": [
       "<Figure size 640x480 with 1 Axes>"
      ]
     },
     "metadata": {},
     "output_type": "display_data"
    }
   ],
   "source": [
    "sns.histplot(df_order_payments, x=\"payment_value\", bins=100) # based on this histogram, there's outlier in payment_value"
   ]
  },
  {
   "attachments": {},
   "cell_type": "markdown",
   "metadata": {},
   "source": [
    "## 3.B. Handling identified outlier"
   ]
  },
  {
   "cell_type": "code",
   "execution_count": 484,
   "metadata": {},
   "outputs": [
    {
     "data": {
      "text/plain": [
       "<Axes: xlabel='payment_value', ylabel='Count'>"
      ]
     },
     "execution_count": 484,
     "metadata": {},
     "output_type": "execute_result"
    },
    {
     "data": {
      "image/png": "[encoded data removed]",
      "text/plain": [
       "<Figure size 640x480 with 1 Axes>"
      ]
     },
     "metadata": {},
     "output_type": "display_data"
    }
   ],
   "source": [
    "# Define upper bound\n",
    "upper_bound = df_order_payments[\"payment_value\"].quantile(q=0.75)*1.5\n",
    "\n",
    "# Define df without outlier\n",
    "df_order_payments_without_outlier = df_order_payments[df_order_payments[\"payment_value\"] <= upper_bound]\n",
    "\n",
    "# Plot to see the distribution without outlier\n",
    "sns.histplot(df_order_payments_without_outlier, x='payment_value')"
   ]
  },
  {
   "cell_type": "code",
   "execution_count": 485,
   "metadata": {},
   "outputs": [
    {
     "data": {
      "text/html": [
       "<div>\n",
       "<style scoped>\n",
       "    .dataframe tbody tr th:only-of-type {\n",
       "        vertical-align: middle;\n",
       "    }\n",
       "\n",
       "    .dataframe tbody tr th {\n",
       "        vertical-align: top;\n",
       "    }\n",
       "\n",
       "    .dataframe thead th {\n",
       "        text-align: right;\n",
       "    }\n",
       "</style>\n",
       "<table border=\"1\" class=\"dataframe\">\n",
       "  <thead>\n",
       "    <tr style=\"text-align: right;\">\n",
       "      <th></th>\n",
       "      <th>index</th>\n",
       "      <th>payment_sequential</th>\n",
       "      <th>payment_installments</th>\n",
       "      <th>payment_value</th>\n",
       "    </tr>\n",
       "  </thead>\n",
       "  <tbody>\n",
       "    <tr>\n",
       "      <th>count</th>\n",
       "      <td>103886.00000</td>\n",
       "      <td>103886.000000</td>\n",
       "      <td>103886.000000</td>\n",
       "      <td>103886.000000</td>\n",
       "    </tr>\n",
       "    <tr>\n",
       "      <th>mean</th>\n",
       "      <td>51942.50000</td>\n",
       "      <td>1.092679</td>\n",
       "      <td>2.853349</td>\n",
       "      <td>99.863554</td>\n",
       "    </tr>\n",
       "    <tr>\n",
       "      <th>std</th>\n",
       "      <td>29989.44937</td>\n",
       "      <td>0.706584</td>\n",
       "      <td>2.687051</td>\n",
       "      <td>55.646125</td>\n",
       "    </tr>\n",
       "    <tr>\n",
       "      <th>min</th>\n",
       "      <td>0.00000</td>\n",
       "      <td>1.000000</td>\n",
       "      <td>0.000000</td>\n",
       "      <td>0.000000</td>\n",
       "    </tr>\n",
       "    <tr>\n",
       "      <th>25%</th>\n",
       "      <td>25971.25000</td>\n",
       "      <td>1.000000</td>\n",
       "      <td>1.000000</td>\n",
       "      <td>56.790000</td>\n",
       "    </tr>\n",
       "    <tr>\n",
       "      <th>50%</th>\n",
       "      <td>51942.50000</td>\n",
       "      <td>1.000000</td>\n",
       "      <td>1.000000</td>\n",
       "      <td>100.000000</td>\n",
       "    </tr>\n",
       "    <tr>\n",
       "      <th>75%</th>\n",
       "      <td>77913.75000</td>\n",
       "      <td>1.000000</td>\n",
       "      <td>4.000000</td>\n",
       "      <td>130.492500</td>\n",
       "    </tr>\n",
       "    <tr>\n",
       "      <th>max</th>\n",
       "      <td>103885.00000</td>\n",
       "      <td>29.000000</td>\n",
       "      <td>24.000000</td>\n",
       "      <td>257.750000</td>\n",
       "    </tr>\n",
       "  </tbody>\n",
       "</table>\n",
       "</div>"
      ],
      "text/plain": [
       "              index  payment_sequential  payment_installments  payment_value\n",
       "count  103886.00000       103886.000000         103886.000000  103886.000000\n",
       "mean    51942.50000            1.092679              2.853349      99.863554\n",
       "std     29989.44937            0.706584              2.687051      55.646125\n",
       "min         0.00000            1.000000              0.000000       0.000000\n",
       "25%     25971.25000            1.000000              1.000000      56.790000\n",
       "50%     51942.50000            1.000000              1.000000     100.000000\n",
       "75%     77913.75000            1.000000              4.000000     130.492500\n",
       "max    103885.00000           29.000000             24.000000     257.750000"
      ]
     },
     "execution_count": 485,
     "metadata": {},
     "output_type": "execute_result"
    }
   ],
   "source": [
    "# Find the median of payment_value\n",
    "med_payment_value = df_order_payments['payment_value'].median()\n",
    "\n",
    "# Replace the outlier with the median\n",
    "df_order_payments.loc[df_order_payments['payment_value'] > upper_bound, \"payment_value\"] = med_payment_value\n",
    "\n",
    "# Check the change (see the max value of payment_value)\n",
    "df_order_payments.describe()"
   ]
  },
  {
   "attachments": {},
   "cell_type": "markdown",
   "metadata": {},
   "source": [
    "# 4. Handling Duplicates"
   ]
  },
  {
   "cell_type": "code",
   "execution_count": 486,
   "metadata": {},
   "outputs": [
    {
     "data": {
      "text/plain": [
       "count     1000163\n",
       "unique          1\n",
       "top         False\n",
       "freq      1000163\n",
       "dtype: object"
      ]
     },
     "execution_count": 486,
     "metadata": {},
     "output_type": "execute_result"
    }
   ],
   "source": [
    "# Check whether duplicate exist\n",
    "df_geolocation.duplicated(keep=False).describe()"
   ]
  },
  {
   "cell_type": "code",
   "execution_count": 487,
   "metadata": {},
   "outputs": [
    {
     "data": {
      "text/plain": [
       "count     99441\n",
       "unique        1\n",
       "top       False\n",
       "freq      99441\n",
       "dtype: object"
      ]
     },
     "execution_count": 487,
     "metadata": {},
     "output_type": "execute_result"
    }
   ],
   "source": [
    "# Check whether duplicate exist\n",
    "df_order_customer.duplicated(keep=False).describe()"
   ]
  },
  {
   "cell_type": "code",
   "execution_count": 488,
   "metadata": {},
   "outputs": [
    {
     "data": {
      "text/plain": [
       "count     99441\n",
       "unique        1\n",
       "top       False\n",
       "freq      99441\n",
       "dtype: object"
      ]
     },
     "execution_count": 488,
     "metadata": {},
     "output_type": "execute_result"
    }
   ],
   "source": [
    "# Check whether duplicate exist\n",
    "df_order.duplicated(keep=False).describe()"
   ]
  },
  {
   "cell_type": "code",
   "execution_count": 489,
   "metadata": {},
   "outputs": [
    {
     "data": {
      "text/plain": [
       "count     112650\n",
       "unique         1\n",
       "top        False\n",
       "freq      112650\n",
       "dtype: object"
      ]
     },
     "execution_count": 489,
     "metadata": {},
     "output_type": "execute_result"
    }
   ],
   "source": [
    "# Check whether duplicate exist\n",
    "df_order_items.duplicated(keep=False).describe()"
   ]
  },
  {
   "cell_type": "code",
   "execution_count": 490,
   "metadata": {},
   "outputs": [
    {
     "data": {
      "text/plain": [
       "count     103886\n",
       "unique         1\n",
       "top        False\n",
       "freq      103886\n",
       "dtype: object"
      ]
     },
     "execution_count": 490,
     "metadata": {},
     "output_type": "execute_result"
    }
   ],
   "source": [
    "# Check whether duplicate exist\n",
    "df_order_payments.duplicated(keep=False).describe()"
   ]
  },
  {
   "cell_type": "code",
   "execution_count": 491,
   "metadata": {},
   "outputs": [
    {
     "data": {
      "text/plain": [
       "count     99224\n",
       "unique        1\n",
       "top       False\n",
       "freq      99224\n",
       "dtype: object"
      ]
     },
     "execution_count": 491,
     "metadata": {},
     "output_type": "execute_result"
    }
   ],
   "source": [
    "# Check whether duplicate exist\n",
    "df_order_reviews.duplicated(keep=False).describe()"
   ]
  },
  {
   "cell_type": "code",
   "execution_count": 492,
   "metadata": {},
   "outputs": [
    {
     "data": {
      "text/plain": [
       "count     32951\n",
       "unique        1\n",
       "top       False\n",
       "freq      32951\n",
       "dtype: object"
      ]
     },
     "execution_count": 492,
     "metadata": {},
     "output_type": "execute_result"
    }
   ],
   "source": [
    "# Check whether duplicate exist\n",
    "df_products.duplicated(keep=False).describe()"
   ]
  },
  {
   "cell_type": "code",
   "execution_count": 493,
   "metadata": {},
   "outputs": [
    {
     "data": {
      "text/plain": [
       "count      3095\n",
       "unique        1\n",
       "top       False\n",
       "freq       3095\n",
       "dtype: object"
      ]
     },
     "execution_count": 493,
     "metadata": {},
     "output_type": "execute_result"
    }
   ],
   "source": [
    "# Check whether duplicate exist\n",
    "df_sellers.duplicated(keep=False).describe()"
   ]
  },
  {
   "cell_type": "code",
   "execution_count": 494,
   "metadata": {},
   "outputs": [
    {
     "data": {
      "text/plain": [
       "count        71\n",
       "unique        1\n",
       "top       False\n",
       "freq         71\n",
       "dtype: object"
      ]
     },
     "execution_count": 494,
     "metadata": {},
     "output_type": "execute_result"
    }
   ],
   "source": [
    "# Check whether duplicate exist\n",
    "df_product_cat_name_transl.duplicated(keep=False).describe()"
   ]
  },
  {
   "attachments": {},
   "cell_type": "markdown",
   "metadata": {},
   "source": [
    "### Key insight(s):\n",
    "1. There is no duplicate in all the data tables."
   ]
  },
  {
   "attachments": {},
   "cell_type": "markdown",
   "metadata": {},
   "source": [
    "# 5. Handling Format Inconsistencies/Typos"
   ]
  },
  {
   "attachments": {},
   "cell_type": "markdown",
   "metadata": {},
   "source": [
    "## 5.A. Identify variables prone to typo"
   ]
  },
  {
   "cell_type": "code",
   "execution_count": 508,
   "metadata": {},
   "outputs": [
    {
     "data": {
      "text/plain": [
       "seller_city\n",
       "sao paulo              694\n",
       "curitiba               127\n",
       "rio de janeiro          96\n",
       "belo horizonte          68\n",
       "ribeirao preto          52\n",
       "                      ... \n",
       "taruma                   1\n",
       "s jose do rio preto      1\n",
       "domingos martins         1\n",
       "messias targino          1\n",
       "leme                     1\n",
       "Name: count, Length: 611, dtype: int64"
      ]
     },
     "execution_count": 508,
     "metadata": {},
     "output_type": "execute_result"
    }
   ],
   "source": [
    "# Identify potential inconsistencies\n",
    "df_geolocation['geolocation_city'].value_counts()\n",
    "df_order_customer['customer_city'].value_counts()\n",
    "df_sellers['seller_city'].value_counts()\n",
    "\n",
    "# City name tend to have typos"
   ]
  },
  {
   "attachments": {},
   "cell_type": "markdown",
   "metadata": {},
   "source": [
    "## 5.B. Handling Inconsistencies"
   ]
  },
  {
   "cell_type": "code",
   "execution_count": 496,
   "metadata": {},
   "outputs": [],
   "source": [
    "dict_chara_replace = {\n",
    "    \"ã\" : \"a\",\n",
    "    \"á\" : \"a\",\n",
    "    \"â\" : \"a\",\n",
    "    \"ç\" : \"c\",\n",
    "    \"é\" : \"e\",\n",
    "    \"ê\" : \"e\",\n",
    "    \"í\" : \"i\",\n",
    "    \"ó\" : \"o\",\n",
    "    \"ú\" : \"u\",\n",
    "    \"'\" : \" \",\n",
    "    \"£\" : \"\",\n",
    "    \"ô\" :\"o\",\n",
    "    \"õ\" : \"o\",\n",
    "    \"-\" : \" \",\n",
    "    \"  \" : \" \"\n",
    "}"
   ]
  },
  {
   "cell_type": "code",
   "execution_count": 497,
   "metadata": {},
   "outputs": [],
   "source": [
    "# Create a function to standardize the characters\n",
    "def standardize_chara(data, col_name):\n",
    "    data[col_name] = data[col_name].str.lower()\n",
    "\n",
    "    for chara in dict_chara_replace:\n",
    "       data[col_name] = data[col_name].str.replace(chara, dict_chara_replace[chara])"
   ]
  },
  {
   "cell_type": "code",
   "execution_count": 505,
   "metadata": {},
   "outputs": [],
   "source": [
    "map_city_names = {\n",
    "    \"saopaulo\" : \"sao paulo\",\n",
    "    \"sp\" : \"sau paulo\",\n",
    "    \"guarulhos-sp\" : \"guarulhos\",\n",
    "    \"pariquera acu\" : \"pariquera-acu\",\n",
    "    \"vitorinos - alto rio doce\" : \"virotinos\",\n",
    "    \"vitorinos - alto rio doce\" : \"virotinos\",\n",
    "    \"praia grande (fundao)\" : \"praia grande\",\n",
    "    \"tamoios (cabo frio)\": \"tamoios\",\n",
    "    \"antunes (igaratinga)\" : \"antunes\",\n",
    "    \"monte gordo (camacari)  distrito\" : \"monte gordo\",\n",
    "    \"jacare (cabreuva)\" : \"jacare\",\n",
    "    \"california da barra (barra do pirai)\" : \"california da barra\",\n",
    "    \"penedo (itatiaia)\" : \"penedo\",\n",
    "    \"bacaxa (saquarema)  distrito\" : \"bacaxa\",\n",
    "    \"praia grande (fundao)  distrito\" : \"praia grande\",\n",
    "    \"itabatan (mucuri)\" : \"itabatan\",\n",
    "    \"realeza (manhuacu)\" : \"realeza\",\n",
    "    \"mogi-guacu\" : \"mogi guacu\",\n",
    "    \"biritiba-mirim\" : \"biritiba mirim\",\n",
    "    \"mogi-mirim\" : \"mogi mirim\",\n",
    "    \"venda nova do imigrante-es\" : \"venda nova do imigrante\",\n",
    "    \"pariquera-acu\" : \"pariquera acu\",\n",
    "    \"varre-sai\" : \"varre sai\",\n",
    "    \"naque-nanuque\" : \"naque nanuque\",\n",
    "    \"embu-guacu\" : \"embu guacu\",\n",
    "    \"pingo-dagua\" : \"pingo d agua\",\n",
    "    \"pingo d agua\" : \"pingo d agua\",\n",
    "    \"pariquera-acu\" : \"pariquera acu\",\n",
    "    \"olhos dagua\" : \"olhos d agua\",\n",
    "    \"olho dagua das cunhas\" : \"olho d agua das cunhas\",\n",
    "    \"olho dagua grande\" : \"olho d agua grande\"\n",
    "    \n",
    "}"
   ]
  },
  {
   "cell_type": "code",
   "execution_count": 507,
   "metadata": {},
   "outputs": [
    {
     "data": {
      "text/plain": [
       "geolocation_city\n",
       "sao paulo               160721\n",
       "rio de janeiro           62151\n",
       "belo horizonte           27805\n",
       "curitiba                 16593\n",
       "porto alegre             13521\n",
       "                         ...  \n",
       "ceilandia norte              1\n",
       "azambuja                     1\n",
       "algodao de jandaira          1\n",
       "ipuca                        1\n",
       "alta floresta doeste         1\n",
       "Name: count, Length: 5924, dtype: int64"
      ]
     },
     "execution_count": 507,
     "metadata": {},
     "output_type": "execute_result"
    }
   ],
   "source": [
    "# On df_geolocation\n",
    "# Standardize the characters\n",
    "standardize_chara(df_geolocation, 'geolocation_city')\n",
    "\n",
    "# Replace the inconsistencies of city names\n",
    "df_geolocation['geolocation_city'] = df_geolocation['geolocation_city'].replace(map_city_names)\n",
    "df_geolocation['geolocation_city'].value_counts()"
   ]
  },
  {
   "cell_type": "code",
   "execution_count": 509,
   "metadata": {},
   "outputs": [
    {
     "data": {
      "text/plain": [
       "customer_city\n",
       "sao paulo               15540\n",
       "rio de janeiro           6882\n",
       "belo horizonte           2773\n",
       "brasilia                 2131\n",
       "curitiba                 1521\n",
       "                        ...  \n",
       "central                     1\n",
       "nova independencia          1\n",
       "cha de alegria              1\n",
       "sao joao do itaperiu        1\n",
       "eugenio de castro           1\n",
       "Name: count, Length: 4113, dtype: int64"
      ]
     },
     "execution_count": 509,
     "metadata": {},
     "output_type": "execute_result"
    }
   ],
   "source": [
    "# On df_order_customer\n",
    "# Standardize the characters\n",
    "standardize_chara(df_order_customer, 'customer_city')\n",
    "\n",
    "# Replace the inconsistencies of city names\n",
    "df_order_customer['customer_city'] = df_order_customer['customer_city'].replace(map_city_names)\n",
    "df_order_customer['customer_city'].value_counts()"
   ]
  },
  {
   "cell_type": "code",
   "execution_count": 511,
   "metadata": {},
   "outputs": [
    {
     "data": {
      "text/plain": [
       "seller_city\n",
       "sao paulo              695\n",
       "curitiba               127\n",
       "rio de janeiro          96\n",
       "belo horizonte          68\n",
       "ribeirao preto          52\n",
       "                      ... \n",
       "pirassununga             1\n",
       "taruma                   1\n",
       "s jose do rio preto      1\n",
       "domingos martins         1\n",
       "leme                     1\n",
       "Name: count, Length: 607, dtype: int64"
      ]
     },
     "execution_count": 511,
     "metadata": {},
     "output_type": "execute_result"
    }
   ],
   "source": [
    "# On df_sellers\n",
    "# Standardize the characters\n",
    "standardize_chara(df_sellers, 'seller_city')\n",
    "\n",
    "# Replace the inconsistencies of city names\n",
    "df_sellers['seller_city'] = df_sellers['seller_city'].replace(map_city_names)\n",
    "df_sellers['seller_city'].value_counts()"
   ]
  },
  {
   "cell_type": "code",
   "execution_count": 513,
   "metadata": {},
   "outputs": [
    {
     "data": {
      "text/plain": [
       "array(['campinas', 'mogi guacu', 'rio de janeiro', 'sao paulo',\n",
       "       'braganca paulista', 'brejao', 'penapolis', 'curitiba', 'anapolis',\n",
       "       'itirapina', 'tubarao', 'lauro de freitas', 'imbituba', 'brasilia',\n",
       "       'porto seguro', 'guaruja', 'tabatinga', 'salto', 'tres de maio',\n",
       "       'belo horizonte', 'arapongas', 'sao bernardo do campo', 'tatui',\n",
       "       'garopaba', 'camanducaia', 'tupa', 'guarulhos',\n",
       "       'sao jose dos pinhais', 'sao ludgero', 'sao jose', 'piracicaba',\n",
       "       'porto alegre', 'congonhal', 'santo andre', 'osasco', 'valinhos',\n",
       "       'joinville', 'saquarema', 'barra velha', 'petropolis',\n",
       "       'santo antonio da patrulha', 'ponta grossa', 'santana de parnaiba',\n",
       "       'sao carlos', 'ibitinga', 'barueri', 'caxias do sul', 'araguari',\n",
       "       'contagem', 'jaragua do sul', 'lages  sc', 'bento goncalves',\n",
       "       'catanduva', 'ribeirao pires', 'jaboticabal', 'echapora', 'cotia',\n",
       "       'rio do sul', 'sorocaba', 'pradopolis', 'itaborai', 'mirassol',\n",
       "       'birigui', 'assis', 'jaguariuna', 'araraquara', 'macae',\n",
       "       'rio claro', 'londrina', 'ribeirao preto', 'tres coracoes',\n",
       "       'nhandeara', 'orleans', 'cuiaba', 'formosa do oeste', 'santos',\n",
       "       'santa terezinha de goias', 'arvorezinha', 'guiricema', 'caruaru',\n",
       "       'franca', 'salvador', 'diadema', 'itaquaquecetuba',\n",
       "       'lencois paulista', 'carapicuiba', 'uruacu', 'itajai', 'loanda',\n",
       "       'maringa', 'ferraz de vasconcelos', 'limeira', 'claudio',\n",
       "       'niteroi', 'osvaldo cruz', 'sao goncalo', 'jaciara',\n",
       "       'balenario camboriu', 'timbo', 'jacutinga', 'fortaleza',\n",
       "       'mirandopolis', 'bauru', 'jacarei', 'itu', 'laranjeiras do sul',\n",
       "       'videira', 'florianopolis', 'itapecerica da serra', 'mamanguape',\n",
       "       'ponte nova', 'goioere', 'pederneiras', 'itapevi', 'goiania',\n",
       "       'campina grande', 'estancia velha', 'resende', 'maua', 'caratinga',\n",
       "       'auriflama/sp', 'cafelandia', 'uba', 'sao paulo / sao paulo',\n",
       "       'sao jose do rio preto', 'porto ferreira', 'tres coroas',\n",
       "       'blumenau', 'mogi das cruzes', 'jaci', 'laranjal paulista',\n",
       "       'americana', 'sertanopolis', 'apucarana', 'colombo',\n",
       "       'vicente de carvalho', 'mesquita', 'sao pauo', 'cascavel',\n",
       "       'fazenda rio grande', 'taboao da serra', 'sao jose dos campos',\n",
       "       'toledo', 'marechal candido rondon', 'jundiai', 'mandirituba',\n",
       "       'suzano', 'vespasiano', 'santa rosa', 'sao joaquim da barra',\n",
       "       'santo antonio de posse', 'uruguaiana', 'campanha', 'piracanjuba',\n",
       "       'concordia', 'santa rita do sapucai', 'barretos', 'indaiatuba',\n",
       "       'nilopolis', 'pompeia', 'barro alto', 'são paulo', 'praia grande',\n",
       "       'luiz alves', 'brusque', 'criciuma', 'jales', 'atibaia',\n",
       "       'rio branco', 'barra mansa', 'marilia', 'bahia', 'taubate',\n",
       "       'cascavael', 'monteiro lobato', 'viana', 'paraiba do sul',\n",
       "       'mococa', 'sao roque', 'passos', 'francisco beltrao', 'tocantins',\n",
       "       'porto belo', 'nova iguacu', 'icara', 'lajeado', 'horizontina',\n",
       "       'votorantim', 'campo bom', 'monte alto', 'fernandopolis',\n",
       "       'pedreira', 'poa', 'divinopolis', 'santa barbara d´oeste',\n",
       "       'canoas', 'mombuca', 'sete lagoas', 'campo do meio',\n",
       "       'cordeiropolis', 'uberlandia', 'santa barbara d oeste',\n",
       "       'volta redonda', '04482255', 'aracatuba', 'monte siao', 'garuva',\n",
       "       'bonfinopolis de minas', 'cosmopolis', 'pocos de caldas',\n",
       "       'artur nogueira', 'joao pessoa', 'dois corregos', 'araquari',\n",
       "       'novo hamburgo, rio grande do sul, brasil', 'floranopolis',\n",
       "       'sumare', 'guaira', 'cachoeiro de itapemirim', 'serrana',\n",
       "       'rolandia', 'congonhas', 'boituva', 'mairipora', 'guaimbe',\n",
       "       'parai', 'aperibe', 'jaguaruna', 'vila velha', 'juiz de fora',\n",
       "       'fronteira', 'novo horizonte', 'pilar do sul', 'itajobi',\n",
       "       'cariacica / es', 'prados', 'mucambo', 'montes claros', 'vicosa',\n",
       "       'porto velho', 'sao jose do rio pardo', 'pato branco',\n",
       "       'sao joao del rei', 'presidente prudente', 'paracambi',\n",
       "       'serra negra', 'sao caetano do sul', 'bom jardim', 'serra redonda',\n",
       "       'sao francisco do sul', 'betim', 'imbituva', 'guaratuba',\n",
       "       'teresina', 'sao miguel d oeste', 'california', 'japira',\n",
       "       'foz do iguacu', 'nova friburgo', 'itau de minas', 'oliveira',\n",
       "       'sabara', 'pedrinhas paulista', 'votuporanga', 'holambra',\n",
       "       'ararangua', 'pinhais', 'pato bragado', 'carazinho', 'arinos',\n",
       "       'sao pedro', 'lages', 'ampere', 'itauna', 'mogi mirim',\n",
       "       'curitibanos', 'brasilia df', 'mogi das cruses', 'hortolandia',\n",
       "       'ipatinga', 'laguna', 'dores de campos', 'sao paulo  sp', 'araras',\n",
       "       'divisa nova', 'igaracu do tiete', 'pitangueiras', 'campo grande',\n",
       "       'garca', 'presidente epitacio', 'sbc/sp',\n",
       "       'arraial d ajuda (porto seguro)', 'pacatuba', 'formosa',\n",
       "       'borda da mata', 'ubatuba', 'entre rios do oeste', 'formiga',\n",
       "       'venancio aires', 'navegantes', 'cruzeiro', 'santa maria',\n",
       "       'muriae', 'santo andre/sao paulo', 'ipe', 'messias targino',\n",
       "       'varginha', 'botucatu', 'domingos martins', 'uberaba',\n",
       "       'coronel fabriciano', 'cachoeirinha', 's jose do rio preto',\n",
       "       'taruma', 'pirassununga', 'aruja', 'sp / sp', 'angra dos reis',\n",
       "       'juzeiro do norte', 'laurentino', 'flores da cunha', 'montenegro',\n",
       "       'pedregulho', 'novo hamburgo', 'torres', 'aracaju',\n",
       "       'santa catarina', 'joao pinheiro', 'bady bassitt', 'sinop',\n",
       "       'guarapuava', 'araucaria', 'vitoria', 'batatais', 'lagoa santa',\n",
       "       'chapeco', 'umuarama', 'belford roxo', 'cariacica',\n",
       "       'monte alegre do sul', 'sau paulo', 'lagoa da prata', 'rolante',\n",
       "       'teresopolis', 'itaporanga', 'campo largo', 'sao joao de meriti',\n",
       "       'maua/sao paulo', 'bom jesus dos perdoes', 'brotas', 'irece',\n",
       "       'coxim', 'jau', 'conselheiro lafaiete', 'amparo',\n",
       "       'sao miguel do oeste', 'gaspar', 'rio bonito', 'mandaguari',\n",
       "       'vargem grande paulista', 'conchal', 'cambe', 'marialva',\n",
       "       'alfenas', 'balneario camboriu', 'palhoca', 'sao bernardo do capo',\n",
       "       'guara', 'colatina', 'franco da rocha', 'lambari',\n",
       "       'mogi das cruzes / sp', 'treze tilias',\n",
       "       'rio de janeiro \\\\rio de janeiro', 'paulo lopes', 'santa cecilia',\n",
       "       'braco do norte', 'floresta', 'farroupilha', 'castro', 'luziania',\n",
       "       'joao monlevade', 'pelotas', 'sao bento', 'campos dos goytacazes',\n",
       "       'ouro fino', 'sao jose dos pinhas', 'tiete', 'viamao', 'janauba',\n",
       "       'capivari', 'santa terezinha de itaipu', 'igrejinha',\n",
       "       'sao bento do sul', 'duque de caxias', 'araxa', 'canoinhas',\n",
       "       'recife', 'barbacena/ minas gerais', 'vera cruz', 'parnamirim',\n",
       "       'santo angelo', 'paincandu', 'tres rios', 'tanabi',\n",
       "       'portoferreira', 'itatiba', 'sarandi', 'cravinhos', 'morrinhos',\n",
       "       'bebedouro', 'almirante tamandare', 'bertioga', 'natal',\n",
       "       'belo horizont', 'ivoti', 'andira pr', 'cerqueira cesar',\n",
       "       'marapoama', 'imigrante', 'mairinque', 'sao paulo sp',\n",
       "       'rio de janeiro / rio de janeiro', 'andradas', 'sando andre',\n",
       "       'nova odessa', 'paulinia', 'extrema', 'olimpia',\n",
       "       'angra dos reis rj', 'ronda alta', 'sao vicente', 'pinhais/pr',\n",
       "       'portao', 'registro', 'ao bernardo do campo', 'carmo do cajuru',\n",
       "       'embu das artes', 'fernando prestes', 'castro pires',\n",
       "       'vargem grande do sul', 'campina das missoes',\n",
       "       'sao pedro da aldeia', 'miguelopolis', 'itapui', 'sbc', 'neopolis',\n",
       "       'mineiros do tiete', 'varzea paulista', 'nova lima', 'barbacena',\n",
       "       'caieiras', 'buritama', 'erechim', 'itapetininga', 'pinhalzinho',\n",
       "       'descalvado', 'pitanga', 'bage', 'taio', 'patos de minas',\n",
       "       'garulhos', 'jarinu', 'nova petropolis',\n",
       "       'ribeirao preto / sao paulo', 'camboriu', 'nova trento',\n",
       "       'sao luis', 'sao jose do rio pret', 'eusebio', 'itaipulandia',\n",
       "       'ipira', 'campo magro', 'tiradentes', 'sao paluo', 'baependi',\n",
       "       'embu guacu', 'paraiso do sul', 'aparecida', 'cataguases',\n",
       "       'bariri', 'abadia de goias', 'alambari', 'ji parana', 'vassouras',\n",
       "       'lorena', 'rodeio', 'louveira', 'guanhaes',\n",
       "       'santo antonio de padua', 'presidente getulio', 'campos novos',\n",
       "       'eunapolis', 'engenheiro coelho', 'rio das pedras',\n",
       "       'afonso claudio', 'carapicuiba / sao paulo', 'centro', 'parana',\n",
       "       'indaial', 'bombinhas', 'orlandia', 'itapeva', 'sao sebastiao',\n",
       "       'macatuba', 'sao joao da boa vista', 'teixeira soares',\n",
       "       'mandaguacu', 'rio do oeste', 'vendas@creditparts.com.br',\n",
       "       'armacao dos buzios', 'mateus leme', 'sao paulop',\n",
       "       'campo limpo paulista', 'socorro', 'serra', 'bocaiuva do sul',\n",
       "       'ilheus', 'imbe', 'soledade', 'cajamar', 'rio negrinho',\n",
       "       'clementina', 'francisco morato', 'rio grande', 'xaxim', 'manaus',\n",
       "       'terra boa', 'minas gerais', 'avare', 'ibirite',\n",
       "       'santa maria da serra', 'auriflama', 'condor', 'ibia', 'guanambi',\n",
       "       'caucaia', 'cordilheira alta', 'carmo da mata', 'ouro preto',\n",
       "       'pedro leopoldo', 'santa rosa de viterbo', 'xanxere',\n",
       "       'alvares machado', 'scao jose do rio pardo', 'ribeirao das neves',\n",
       "       'medianeira', 'massaranduba', 'cornelio procopio', 'pirituba',\n",
       "       'jambeiro', 'sao leopoldo', 'aguas claras df', 'ribeirao pretp',\n",
       "       'cianorte', 'feira de santana', 'cachoeira do sul', 'guariba',\n",
       "       'sao sebastiao da grama/sp', 'dracena', 'ourinhos',\n",
       "       'robeirao preto', 'cacador', 'gama', 'queimados', 'cananeia',\n",
       "       'presidente bernardes', 'pinhalao', 'sombrio', 'campo mourao',\n",
       "       'ilicinea', 'itabira', 'barrinha', 'jussara', 'uniao da vitoria',\n",
       "       'triunfo', 'santa cruz do sul', 'colorado', 'itapema', 'sapiranga',\n",
       "       'paranavai', 'alvorada', 'ipaussu', 'rio verde', 'mage',\n",
       "       'tabao da serra', 'bofete', 'picarras', 'marica', 'jaragua',\n",
       "       'governador valadares', 'rio de janeiro, rio de janeiro, brasil',\n",
       "       'pouso alegre', 'timoteo', 'muqui', 'ipua', 'jacarei / sao paulo',\n",
       "       'varzea alegre', 'guaratingueta', 'tambau', 'irati',\n",
       "       'riberao preto', 'aparecida de goiania', 'bandeirantes',\n",
       "       'vitoria de santo antao', 'palotina', 'leme'], dtype=object)"
      ]
     },
     "execution_count": 513,
     "metadata": {},
     "output_type": "execute_result"
    }
   ],
   "source": [
    "# Check the city names\n",
    "df_geolocation['geolocation_city'].unique()\n",
    "df_order_customer['customer_city'].unique()\n",
    "df_sellers['seller_city'].unique()"
   ]
  },
  {
   "attachments": {},
   "cell_type": "markdown",
   "metadata": {},
   "source": [
    "### OMITTED - This Correction Method is Too Time-Consuming (Not Performant Enough)"
   ]
  },
  {
   "cell_type": "code",
   "execution_count": 48,
   "metadata": {},
   "outputs": [
    {
     "data": {
      "text/plain": [
       "['abadia de goias',\n",
       " 'abadia dos dourados',\n",
       " 'abadiania',\n",
       " 'abaetetuba',\n",
       " 'abaete',\n",
       " 'abaiara',\n",
       " 'abare',\n",
       " 'abatia',\n",
       " 'abaira',\n",
       " 'abdon batista',\n",
       " 'abel figueiredo',\n",
       " 'abelardo luz',\n",
       " 'abre campo',\n",
       " 'abreu e lima',\n",
       " 'abreulandia',\n",
       " 'acaiaca',\n",
       " 'acajutiba',\n",
       " 'acarape',\n",
       " 'acarau',\n",
       " 'acari',\n",
       " 'acara',\n",
       " 'acaua',\n",
       " 'acegua',\n",
       " 'acopiara',\n",
       " 'acorizal',\n",
       " 'acrelandia',\n",
       " 'acreuna',\n",
       " 'adamantina',\n",
       " 'adelandia',\n",
       " 'adolfo',\n",
       " 'adrianopolis',\n",
       " 'adustina',\n",
       " 'afogados da ingazeira',\n",
       " 'afonso bezerra',\n",
       " 'afonso claudio',\n",
       " 'afonso cunha',\n",
       " 'afranio',\n",
       " 'afua',\n",
       " 'agrestina',\n",
       " 'agricolandia',\n",
       " 'agrolandia',\n",
       " 'agronômica',\n",
       " 'aguanil',\n",
       " 'aguai',\n",
       " 'agudo',\n",
       " 'agudos',\n",
       " 'agudos do sul',\n",
       " 'aguiar',\n",
       " 'aguiarnopolis',\n",
       " 'aimores',\n",
       " 'aiquara',\n",
       " 'aiuaba',\n",
       " 'aiuruoca',\n",
       " 'ajuricaba',\n",
       " 'alagoa',\n",
       " 'alagoa grande',\n",
       " 'alagoa nova',\n",
       " 'alagoinha',\n",
       " 'alagoinha',\n",
       " 'alagoinha do piaui',\n",
       " 'alagoinhas',\n",
       " 'alambari',\n",
       " 'albertina',\n",
       " 'alcantil',\n",
       " 'alcinopolis',\n",
       " 'alcobaca',\n",
       " 'alcantara',\n",
       " 'alcantaras',\n",
       " 'aldeias altas',\n",
       " 'alecrim',\n",
       " 'alegre',\n",
       " 'alegrete',\n",
       " 'alegrete do piaui',\n",
       " 'alegria',\n",
       " 'alenquer',\n",
       " 'alexandria',\n",
       " 'alexania',\n",
       " 'alfenas',\n",
       " 'alfredo chaves',\n",
       " 'alfredo marcondes',\n",
       " 'alfredo vasconcelos',\n",
       " 'alfredo wagner',\n",
       " 'algodao de jandaira',\n",
       " 'alhandra',\n",
       " 'alianca',\n",
       " 'alianca do tocantins',\n",
       " 'almadina',\n",
       " 'almas',\n",
       " 'almeirim',\n",
       " 'almenara',\n",
       " 'almino afonso',\n",
       " 'almirante tamandare',\n",
       " 'almirante tamandare do sul',\n",
       " 'aloandia',\n",
       " 'alpercata',\n",
       " 'alpestre',\n",
       " 'alpinopolis',\n",
       " 'alta floresta',\n",
       " 'alta floresta doeste',\n",
       " 'altair',\n",
       " 'altamira',\n",
       " 'altamira do maranhao',\n",
       " 'altamira do parana',\n",
       " 'altaneira',\n",
       " 'alterosa',\n",
       " 'altinho',\n",
       " 'altinopolis',\n",
       " 'alto alegre',\n",
       " 'alto alegre',\n",
       " 'alto alegre',\n",
       " 'alto alegre do maranhao',\n",
       " 'alto alegre do pindare',\n",
       " 'alto alegre dos parecis',\n",
       " 'alto araguaia',\n",
       " 'alto bela vista',\n",
       " 'alto boa vista',\n",
       " 'alto caparao',\n",
       " 'alto feliz',\n",
       " 'alto garcas',\n",
       " 'alto horizonte',\n",
       " 'alto jequitiba',\n",
       " 'alto longa',\n",
       " 'alto paraguai',\n",
       " 'alto parana',\n",
       " 'alto paraiso',\n",
       " 'alto paraiso',\n",
       " 'alto paraiso de goias',\n",
       " 'alto parnaiba',\n",
       " 'alto piquiri',\n",
       " 'alto rio doce',\n",
       " 'alto rio novo',\n",
       " 'alto santo',\n",
       " 'alto taquari',\n",
       " 'alto do rodrigues',\n",
       " 'altos',\n",
       " 'altônia',\n",
       " 'aluminio',\n",
       " 'alvarenga',\n",
       " 'alvaraes',\n",
       " 'alvinlandia',\n",
       " 'alvinopolis',\n",
       " 'alvorada',\n",
       " 'alvorada',\n",
       " 'alvorada doeste',\n",
       " 'alvorada de minas',\n",
       " 'alvorada do gurgueia',\n",
       " 'alvorada do norte',\n",
       " 'alvorada do sul',\n",
       " 'alem paraiba',\n",
       " 'amajari',\n",
       " 'amambai',\n",
       " 'amapora',\n",
       " 'amapa',\n",
       " 'amapa do maranhao',\n",
       " 'amaraji',\n",
       " 'amaral ferrador',\n",
       " 'amaralina',\n",
       " 'amarante',\n",
       " 'amarante do maranhao',\n",
       " 'amargosa',\n",
       " 'amatura',\n",
       " 'americana',\n",
       " 'americano do brasil',\n",
       " 'ametista do sul',\n",
       " 'amontada',\n",
       " 'amorinopolis',\n",
       " 'amparo',\n",
       " 'amparo',\n",
       " 'amparo do serra',\n",
       " 'amparo do sao francisco',\n",
       " 'ampere',\n",
       " 'amelia rodrigues',\n",
       " 'america dourada',\n",
       " 'americo brasiliense',\n",
       " 'americo de campos',\n",
       " 'anadia',\n",
       " 'anage',\n",
       " 'anahy',\n",
       " 'anajatuba',\n",
       " 'anajas',\n",
       " 'analandia',\n",
       " 'anama',\n",
       " 'ananindeua',\n",
       " 'ananas',\n",
       " 'anapu',\n",
       " 'anapurus',\n",
       " 'anastacio',\n",
       " 'anaurilandia',\n",
       " 'anchieta',\n",
       " 'anchieta',\n",
       " 'andarai',\n",
       " 'andira',\n",
       " 'andorinha',\n",
       " 'andradas',\n",
       " 'andradina',\n",
       " 'andrelandia',\n",
       " 'andre da rocha',\n",
       " 'angatuba',\n",
       " 'angelim',\n",
       " 'angelina',\n",
       " 'angelandia',\n",
       " 'angical',\n",
       " 'angical do piaui',\n",
       " 'angico',\n",
       " 'angicos',\n",
       " 'angra dos reis',\n",
       " 'anguera',\n",
       " 'angelica',\n",
       " 'anhanguera',\n",
       " 'anhembi',\n",
       " 'anhumas',\n",
       " 'anicuns',\n",
       " 'anita garibaldi',\n",
       " 'anitapolis',\n",
       " 'anori',\n",
       " 'anta gorda',\n",
       " 'antas',\n",
       " 'antonina',\n",
       " 'antonina do norte',\n",
       " 'antônio almeida',\n",
       " 'antônio cardoso',\n",
       " 'antônio carlos',\n",
       " 'antônio carlos',\n",
       " 'antônio dias',\n",
       " 'antônio goncalves',\n",
       " 'antônio joao',\n",
       " 'antônio martins',\n",
       " 'antônio olinto',\n",
       " 'antônio prado',\n",
       " 'antônio prado de minas',\n",
       " 'anapolis',\n",
       " 'anisio de abreu',\n",
       " 'aparecida',\n",
       " 'aparecida',\n",
       " 'aparecida doeste',\n",
       " 'aparecida de goiania',\n",
       " 'aparecida do rio doce',\n",
       " 'aparecida do rio negro',\n",
       " 'aparecida do taboado',\n",
       " 'aperibe',\n",
       " 'apiaca',\n",
       " 'apiacas',\n",
       " 'apiai',\n",
       " 'apicum-acu',\n",
       " 'apiuna',\n",
       " 'apodi',\n",
       " 'apora',\n",
       " 'apore',\n",
       " 'apuarema',\n",
       " 'apucarana',\n",
       " 'apuiares',\n",
       " 'apui',\n",
       " 'aquidaba',\n",
       " 'aquidauana',\n",
       " 'aquiraz',\n",
       " 'arabuta',\n",
       " 'aracaju',\n",
       " 'aracati',\n",
       " 'aracatu',\n",
       " 'araci',\n",
       " 'aracitaba',\n",
       " 'aracoiaba',\n",
       " 'aracruz',\n",
       " 'aragarcas',\n",
       " 'aragoiania',\n",
       " 'aragominas',\n",
       " 'araguacema',\n",
       " 'araguaiana',\n",
       " 'araguainha',\n",
       " 'araguana',\n",
       " 'araguana',\n",
       " 'araguapaz',\n",
       " 'araguari',\n",
       " 'araguatins',\n",
       " 'araguacu',\n",
       " 'araguaina',\n",
       " 'araioses',\n",
       " 'aral moreira',\n",
       " 'aramari',\n",
       " 'arambare',\n",
       " 'arame',\n",
       " 'aramina',\n",
       " 'arandu',\n",
       " 'arantina',\n",
       " 'arapei',\n",
       " 'arapiraca',\n",
       " 'arapoema',\n",
       " 'araponga',\n",
       " 'arapongas',\n",
       " 'arapora',\n",
       " 'arapoti',\n",
       " 'araputanga',\n",
       " 'arapua',\n",
       " 'arapua',\n",
       " 'araquari',\n",
       " 'arara',\n",
       " 'ararangua',\n",
       " 'araraquara',\n",
       " 'araras',\n",
       " 'ararenda',\n",
       " 'arari',\n",
       " 'ararica',\n",
       " 'araripe',\n",
       " 'araripina',\n",
       " 'araruama',\n",
       " 'araruna',\n",
       " 'araruna',\n",
       " 'arataca',\n",
       " 'aratiba',\n",
       " 'aratuba',\n",
       " 'aratuipe',\n",
       " 'araucaria',\n",
       " 'araua',\n",
       " 'araxa',\n",
       " 'aracagi',\n",
       " 'aracariguama',\n",
       " 'aracatuba',\n",
       " 'aracai',\n",
       " 'aracoiaba',\n",
       " 'aracoiaba da serra',\n",
       " 'aracu',\n",
       " 'aracuai',\n",
       " 'aracas',\n",
       " 'araujos',\n",
       " 'arceburgo',\n",
       " 'arco-iris',\n",
       " 'arcos',\n",
       " 'arcoverde',\n",
       " 'areado',\n",
       " 'areal',\n",
       " 'arealva',\n",
       " 'areia',\n",
       " 'areia branca',\n",
       " 'areia branca',\n",
       " 'areia de baraunas',\n",
       " 'areial',\n",
       " 'areias',\n",
       " 'areiopolis',\n",
       " 'arenapolis',\n",
       " 'arenopolis',\n",
       " 'argirita',\n",
       " 'aricanduva',\n",
       " 'arinos',\n",
       " 'aripuana',\n",
       " 'ariquemes',\n",
       " 'ariranha',\n",
       " 'ariranha do ivai',\n",
       " 'armazem',\n",
       " 'armacao dos buzios',\n",
       " 'arneiroz',\n",
       " 'aroazes',\n",
       " 'aroeiras',\n",
       " 'aroeiras do itaim',\n",
       " 'arraial',\n",
       " 'arraial do cabo',\n",
       " 'arraias',\n",
       " 'arroio grande',\n",
       " 'arroio trinta',\n",
       " 'arroio do meio',\n",
       " 'arroio do padre',\n",
       " 'arroio do sal',\n",
       " 'arroio do tigre',\n",
       " 'arroio dos ratos',\n",
       " 'artur nogueira',\n",
       " 'aruana',\n",
       " 'aruja',\n",
       " 'arvoredo',\n",
       " 'arvorezinha',\n",
       " 'ares',\n",
       " 'ascurra',\n",
       " 'aspasia',\n",
       " 'assare',\n",
       " 'assai',\n",
       " 'assis',\n",
       " 'assis brasil',\n",
       " 'assis chateaubriand',\n",
       " 'assuncao',\n",
       " 'assuncao do piaui',\n",
       " 'astolfo dutra',\n",
       " 'astorga',\n",
       " 'atalaia',\n",
       " 'atalaia',\n",
       " 'atalaia do norte',\n",
       " 'atalanta',\n",
       " 'ataleia',\n",
       " 'atibaia',\n",
       " 'atilio vivacqua',\n",
       " 'augustinopolis',\n",
       " 'augusto correa',\n",
       " 'augusto pestana',\n",
       " 'augusto de lima',\n",
       " 'aurelino leal',\n",
       " 'auriflama',\n",
       " 'aurilandia',\n",
       " 'aurora',\n",
       " 'aurora',\n",
       " 'aurora do para',\n",
       " 'aurora do tocantins',\n",
       " 'autazes',\n",
       " 'avanhandava',\n",
       " 'avare',\n",
       " 'avai',\n",
       " 'aveiro',\n",
       " 'avelino lopes',\n",
       " 'avelinopolis',\n",
       " 'axixa',\n",
       " 'axixa do tocantins',\n",
       " 'acailandia',\n",
       " 'acu',\n",
       " 'acucena',\n",
       " 'babaculandia',\n",
       " 'bacabal',\n",
       " 'bacabeira',\n",
       " 'bacuri',\n",
       " 'bacurituba',\n",
       " 'bady bassitt',\n",
       " 'baependi',\n",
       " 'bagre',\n",
       " 'bage',\n",
       " 'baianopolis',\n",
       " 'baixa grande',\n",
       " 'baixa grande do ribeiro',\n",
       " 'baixio',\n",
       " 'baixo guandu',\n",
       " 'baiao',\n",
       " 'balbinos',\n",
       " 'baldim',\n",
       " 'baliza',\n",
       " 'balneario arroio do silva',\n",
       " 'balneario barra do sul',\n",
       " 'balneario camboriu',\n",
       " 'balneario gaivota',\n",
       " 'balneario pinhal',\n",
       " 'balneario picarras',\n",
       " 'balneario rincao',\n",
       " 'balsa nova',\n",
       " 'balsas',\n",
       " 'bambui',\n",
       " 'banabuiu',\n",
       " 'bananal',\n",
       " 'bananeiras',\n",
       " 'bandeira',\n",
       " 'bandeira do sul',\n",
       " 'bandeirante',\n",
       " 'bandeirantes',\n",
       " 'bandeirantes',\n",
       " 'bandeirantes do tocantins',\n",
       " 'bannach',\n",
       " 'banzae',\n",
       " 'barauna',\n",
       " 'barauna',\n",
       " 'barbacena',\n",
       " 'barbalha',\n",
       " 'barbosa',\n",
       " 'barbosa ferraz',\n",
       " 'barcarena',\n",
       " 'barcelona',\n",
       " 'barcelos',\n",
       " 'bariri',\n",
       " 'barra',\n",
       " 'barra bonita',\n",
       " 'barra bonita',\n",
       " 'barra dalcantara',\n",
       " 'barra funda',\n",
       " 'barra longa',\n",
       " 'barra mansa',\n",
       " 'barra velha',\n",
       " 'barra da estiva',\n",
       " 'barra de guabiraba',\n",
       " 'barra de santa rosa',\n",
       " 'barra de santana',\n",
       " 'barra de santo antônio',\n",
       " 'barra de sao francisco',\n",
       " 'barra de sao miguel',\n",
       " 'barra de sao miguel',\n",
       " 'barra do bugres',\n",
       " 'barra do chapeu',\n",
       " 'barra do choca',\n",
       " 'barra do corda',\n",
       " 'barra do garcas',\n",
       " 'barra do guarita',\n",
       " 'barra do jacare',\n",
       " 'barra do mendes',\n",
       " 'barra do ouro',\n",
       " 'barra do pirai',\n",
       " 'barra do quarai',\n",
       " 'barra do ribeiro',\n",
       " 'barra do rio azul',\n",
       " 'barra do rocha',\n",
       " 'barra do turvo',\n",
       " 'barra dos coqueiros',\n",
       " 'barracao',\n",
       " 'barracao',\n",
       " 'barras',\n",
       " 'barreira',\n",
       " 'barreiras',\n",
       " 'barreiras do piaui',\n",
       " 'barreirinha',\n",
       " 'barreirinhas',\n",
       " 'barreiros',\n",
       " 'barretos',\n",
       " 'barrinha',\n",
       " 'barro',\n",
       " 'barro alto',\n",
       " 'barro alto',\n",
       " 'barro duro',\n",
       " 'barrocas',\n",
       " 'barrolandia',\n",
       " 'barroquinha',\n",
       " 'barros cassal',\n",
       " 'barroso',\n",
       " 'barueri',\n",
       " 'barao',\n",
       " 'barao de antonina',\n",
       " 'barao de cocais',\n",
       " 'barao de cotegipe',\n",
       " 'barao de grajau',\n",
       " 'barao de melgaco',\n",
       " 'barao de monte alto',\n",
       " 'barao do triunfo',\n",
       " 'bastos',\n",
       " 'bataguassu',\n",
       " 'batalha',\n",
       " 'batalha',\n",
       " 'batatais',\n",
       " 'bataypora',\n",
       " 'baturite',\n",
       " 'bauru',\n",
       " 'bayeux',\n",
       " 'baia formosa',\n",
       " 'baia da traicao',\n",
       " 'bebedouro',\n",
       " 'beberibe',\n",
       " 'bela cruz',\n",
       " 'bela vista',\n",
       " 'bela vista da caroba',\n",
       " 'bela vista de goias',\n",
       " 'bela vista de minas',\n",
       " 'bela vista do maranhao',\n",
       " 'bela vista do paraiso',\n",
       " 'bela vista do piaui',\n",
       " 'bela vista do toldo',\n",
       " 'belford roxo',\n",
       " 'belmiro braga',\n",
       " 'belmonte',\n",
       " 'belmonte',\n",
       " 'belo campo',\n",
       " 'belo horizonte',\n",
       " 'belo jardim',\n",
       " 'belo monte',\n",
       " 'belo oriente',\n",
       " 'belo vale',\n",
       " 'belterra',\n",
       " 'belagua',\n",
       " 'belem',\n",
       " 'belem',\n",
       " 'belem',\n",
       " 'belem de maria',\n",
       " 'belem do brejo do cruz',\n",
       " 'belem do piaui',\n",
       " 'belem do sao francisco',\n",
       " 'beneditinos',\n",
       " 'benedito leite',\n",
       " 'benedito novo',\n",
       " 'benevides',\n",
       " 'benjamin constant',\n",
       " 'benjamin constant do sul',\n",
       " 'bento fernandes',\n",
       " 'bento goncalves',\n",
       " 'bento de abreu',\n",
       " 'bequimao',\n",
       " 'berilo',\n",
       " 'berizal',\n",
       " 'bernardino batista',\n",
       " 'bernardino de campos',\n",
       " 'bernardo sayao',\n",
       " 'bernardo do mearim',\n",
       " 'bertioga',\n",
       " 'bertolinia',\n",
       " 'bertopolis',\n",
       " 'beruri',\n",
       " 'betim',\n",
       " 'betania',\n",
       " 'betania do piaui',\n",
       " 'bezerros',\n",
       " 'bias fortes',\n",
       " 'bicas',\n",
       " 'biguacu',\n",
       " 'bilac',\n",
       " 'biquinhas',\n",
       " 'birigui',\n",
       " 'biritiba mirim',\n",
       " 'biritinga',\n",
       " 'bituruna',\n",
       " 'blumenau',\n",
       " 'boa esperanca',\n",
       " 'boa esperanca',\n",
       " 'boa esperanca',\n",
       " 'boa esperanca do iguacu',\n",
       " 'boa esperanca do sul',\n",
       " 'boa hora',\n",
       " 'boa nova',\n",
       " 'boa ventura',\n",
       " 'boa ventura de sao roque',\n",
       " 'boa viagem',\n",
       " 'boa vista',\n",
       " 'boa vista',\n",
       " 'boa vista da aparecida',\n",
       " 'boa vista das missões',\n",
       " 'boa vista do burica',\n",
       " 'boa vista do cadeado',\n",
       " 'boa vista do gurupi',\n",
       " 'boa vista do incra',\n",
       " 'boa vista do ramos',\n",
       " 'boa vista do sul',\n",
       " 'boa vista do tupim',\n",
       " 'boca da mata',\n",
       " 'boca do acre',\n",
       " 'bocaina',\n",
       " 'bocaina',\n",
       " 'bocaina de minas',\n",
       " 'bocaina do sul',\n",
       " 'bocaiuva',\n",
       " 'bocaiuva do sul',\n",
       " 'bodoco',\n",
       " 'bodoquena',\n",
       " 'bodo',\n",
       " 'bofete',\n",
       " 'boituva',\n",
       " 'bom conselho',\n",
       " 'bom despacho',\n",
       " 'bom jardim',\n",
       " 'bom jardim',\n",
       " 'bom jardim',\n",
       " 'bom jardim da serra',\n",
       " 'bom jardim de goias',\n",
       " 'bom jardim de minas',\n",
       " 'bom jesus',\n",
       " 'bom jesus',\n",
       " 'bom jesus',\n",
       " 'bom jesus',\n",
       " 'bom jesus',\n",
       " 'bom jesus da lapa',\n",
       " 'bom jesus da penha',\n",
       " 'bom jesus da serra',\n",
       " 'bom jesus das selvas',\n",
       " 'bom jesus de goias',\n",
       " 'bom jesus do amparo',\n",
       " 'bom jesus do araguaia',\n",
       " 'bom jesus do galho',\n",
       " 'bom jesus do itabapoana',\n",
       " 'bom jesus do norte',\n",
       " 'bom jesus do oeste',\n",
       " 'bom jesus do sul',\n",
       " 'bom jesus do tocantins',\n",
       " 'bom jesus do tocantins',\n",
       " 'bom jesus dos perdões',\n",
       " 'bom lugar',\n",
       " 'bom principio',\n",
       " 'bom principio do piaui',\n",
       " 'bom progresso',\n",
       " 'bom repouso',\n",
       " 'bom retiro',\n",
       " 'bom retiro do sul',\n",
       " 'bom sucesso',\n",
       " 'bom sucesso',\n",
       " 'bom sucesso',\n",
       " 'bom sucesso de itarare',\n",
       " 'bom sucesso do sul',\n",
       " 'bombinhas',\n",
       " 'bonfim',\n",
       " 'bonfim',\n",
       " 'bonfim do piaui',\n",
       " 'bonfinopolis',\n",
       " 'bonfinopolis de minas',\n",
       " 'boninal',\n",
       " 'bonito',\n",
       " 'bonito',\n",
       " 'bonito',\n",
       " 'bonito',\n",
       " 'bonito de minas',\n",
       " 'bonito de santa fe',\n",
       " 'bonopolis',\n",
       " 'boqueirao',\n",
       " 'boqueirao do leao',\n",
       " 'boqueirao do piaui',\n",
       " 'boquim',\n",
       " 'boquira',\n",
       " 'boraceia',\n",
       " 'borba',\n",
       " 'borborema',\n",
       " 'borborema',\n",
       " 'borda da mata',\n",
       " 'borebi',\n",
       " 'borrazopolis',\n",
       " 'bora',\n",
       " 'bossoroca',\n",
       " 'botelhos',\n",
       " 'botucatu',\n",
       " 'botumirim',\n",
       " 'botupora',\n",
       " 'botuvera',\n",
       " 'bozano',\n",
       " 'braga',\n",
       " 'braganey',\n",
       " 'braganca',\n",
       " 'braganca paulista',\n",
       " 'branquinha',\n",
       " 'brasil novo',\n",
       " 'brasileira',\n",
       " 'brasilandia',\n",
       " 'brasilandia de minas',\n",
       " 'brasilandia do sul',\n",
       " 'brasilandia do tocantins',\n",
       " 'brasileia',\n",
       " 'brasnorte',\n",
       " 'brasilia',\n",
       " 'brasilia de minas',\n",
       " 'brazabrantes',\n",
       " 'brazopolis',\n",
       " 'braco do norte',\n",
       " 'braco do trombudo',\n",
       " 'brauna',\n",
       " 'braunas',\n",
       " 'brejetuba',\n",
       " 'brejinho',\n",
       " 'brejinho',\n",
       " 'brejinho de nazare',\n",
       " 'brejo',\n",
       " 'brejo alegre',\n",
       " 'brejo grande',\n",
       " 'brejo grande do araguaia',\n",
       " 'brejo santo',\n",
       " 'brejo da madre de deus',\n",
       " 'brejo de areia',\n",
       " 'brejo do cruz',\n",
       " 'brejo do piaui',\n",
       " 'brejo dos santos',\n",
       " 'brejolandia',\n",
       " 'brejao',\n",
       " 'brejões',\n",
       " 'breu branco',\n",
       " 'breves',\n",
       " 'britania',\n",
       " 'brochier',\n",
       " 'brodowski',\n",
       " 'brotas',\n",
       " 'brotas de macaubas',\n",
       " 'brumadinho',\n",
       " 'brumado',\n",
       " 'brunopolis',\n",
       " 'brusque',\n",
       " 'bras pires',\n",
       " 'bueno brandao',\n",
       " 'buenos aires',\n",
       " 'buenopolis',\n",
       " 'buerarema',\n",
       " 'bugre',\n",
       " 'bujari',\n",
       " 'bujaru',\n",
       " 'buri',\n",
       " 'buritama',\n",
       " 'buriti',\n",
       " 'buriti alegre',\n",
       " 'buriti bravo',\n",
       " 'buriti de goias',\n",
       " 'buriti do tocantins',\n",
       " 'buriti dos lopes',\n",
       " 'buriti dos montes',\n",
       " 'buriticupu',\n",
       " 'buritinopolis',\n",
       " 'buritirama',\n",
       " 'buritirana',\n",
       " 'buritis',\n",
       " 'buritis',\n",
       " 'buritizal',\n",
       " 'buritizeiro',\n",
       " 'butia',\n",
       " 'buique',\n",
       " 'balsamo',\n",
       " 'caapiranga',\n",
       " 'caapora',\n",
       " 'caarapo',\n",
       " 'caatiba',\n",
       " 'cabaceiras',\n",
       " 'cabaceiras do paraguacu',\n",
       " 'cabeceira grande',\n",
       " 'cabeceiras',\n",
       " 'cabeceiras do piaui',\n",
       " 'cabedelo',\n",
       " 'cabixi',\n",
       " 'cabo frio',\n",
       " 'cabo verde',\n",
       " 'cabo de santo agostinho',\n",
       " 'cabreuva',\n",
       " 'cabrobo',\n",
       " 'cabralia paulista',\n",
       " 'cacaulandia',\n",
       " 'cacequi',\n",
       " 'cachoeira',\n",
       " 'cachoeira alta',\n",
       " 'cachoeira dourada',\n",
       " 'cachoeira dourada',\n",
       " 'cachoeira grande',\n",
       " 'cachoeira paulista',\n",
       " 'cachoeira da prata',\n",
       " 'cachoeira de goias',\n",
       " 'cachoeira de minas',\n",
       " 'cachoeira de pajeu',\n",
       " 'cachoeira do arari',\n",
       " 'cachoeira do piria',\n",
       " 'cachoeira do sul',\n",
       " 'cachoeira dos indios',\n",
       " 'cachoeiras de macacu',\n",
       " 'cachoeirinha',\n",
       " 'cachoeirinha',\n",
       " 'cachoeirinha',\n",
       " 'cachoeiro de itapemirim',\n",
       " 'cacimba de areia',\n",
       " 'cacimba de dentro',\n",
       " 'cacimbas',\n",
       " 'cacimbinhas',\n",
       " 'cacique doble',\n",
       " 'cacoal',\n",
       " 'caconde',\n",
       " 'cacule',\n",
       " 'caetanos',\n",
       " 'caetanopolis',\n",
       " 'caetite',\n",
       " 'caete',\n",
       " 'caetes',\n",
       " 'cafarnaum',\n",
       " 'cafeara',\n",
       " 'cafelandia',\n",
       " 'cafelandia',\n",
       " 'cafezal do sul',\n",
       " 'caiabu',\n",
       " 'caiana',\n",
       " 'caiapônia',\n",
       " 'caibate',\n",
       " 'caibi',\n",
       " 'caico',\n",
       " 'caieiras',\n",
       " 'cairu',\n",
       " 'caiua',\n",
       " 'caicara',\n",
       " 'caicara',\n",
       " 'caicara do norte',\n",
       " 'caicara do rio do vento',\n",
       " 'cajamar',\n",
       " 'cajapio',\n",
       " 'cajari',\n",
       " 'cajati',\n",
       " 'cajazeiras',\n",
       " 'cajazeiras do piaui',\n",
       " 'cajazeirinhas',\n",
       " 'cajobi',\n",
       " 'cajueiro',\n",
       " 'cajueiro da praia',\n",
       " 'cajuri',\n",
       " 'cajuru',\n",
       " 'calambau',\n",
       " 'caldas',\n",
       " 'caldas brandao',\n",
       " 'caldas novas',\n",
       " 'caldazinha',\n",
       " 'caldeirao grande',\n",
       " 'caldeirao grande do piaui',\n",
       " 'california',\n",
       " 'calmon',\n",
       " 'calumbi',\n",
       " 'calcado',\n",
       " 'calcoene',\n",
       " 'camacan',\n",
       " 'camacho',\n",
       " 'camalau',\n",
       " 'camamu',\n",
       " 'camanducaia',\n",
       " 'camapua',\n",
       " 'camaqua',\n",
       " 'camaragibe',\n",
       " 'camargo',\n",
       " 'camacari',\n",
       " 'cambara',\n",
       " 'cambara do sul',\n",
       " 'cambira',\n",
       " 'camboriu',\n",
       " 'cambuci',\n",
       " 'cambuquira',\n",
       " 'cambui',\n",
       " 'cambe',\n",
       " 'cameta',\n",
       " 'camocim',\n",
       " 'camocim de sao felix',\n",
       " 'campanha',\n",
       " 'campanario',\n",
       " 'campestre',\n",
       " 'campestre',\n",
       " 'campestre da serra',\n",
       " 'campestre de goias',\n",
       " 'campestre do maranhao',\n",
       " 'campina grande',\n",
       " 'campina grande do sul',\n",
       " 'campina verde',\n",
       " 'campina da lagoa',\n",
       " 'campina das missões',\n",
       " 'campina do monte alegre',\n",
       " 'campina do simao',\n",
       " 'campinas',\n",
       " 'campinas do piaui',\n",
       " 'campinas do sul',\n",
       " 'campinacu',\n",
       " 'campinorte',\n",
       " 'campinapolis',\n",
       " 'campo alegre',\n",
       " 'campo alegre',\n",
       " 'campo alegre de goias',\n",
       " 'campo alegre de lourdes',\n",
       " 'campo alegre do fidalgo',\n",
       " 'campo azul',\n",
       " 'campo belo',\n",
       " 'campo belo do sul',\n",
       " 'campo bom',\n",
       " 'campo bonito',\n",
       " 'campo ere',\n",
       " 'campo florido',\n",
       " 'campo formoso',\n",
       " 'campo grande',\n",
       " 'campo grande',\n",
       " 'campo grande',\n",
       " 'campo grande do piaui',\n",
       " 'campo largo',\n",
       " 'campo largo do piaui',\n",
       " 'campo limpo paulista',\n",
       " 'campo limpo de goias',\n",
       " 'campo magro',\n",
       " 'campo maior',\n",
       " 'campo mourao',\n",
       " 'campo novo',\n",
       " 'campo novo de rondônia',\n",
       " 'campo novo do parecis',\n",
       " 'campo redondo',\n",
       " 'campo verde',\n",
       " 'campo de santana',\n",
       " 'campo do brito',\n",
       " 'campo do meio',\n",
       " 'campo do tenente',\n",
       " 'campos altos',\n",
       " 'campos belos',\n",
       " 'campos borges',\n",
       " 'campos gerais',\n",
       " 'campos lindos',\n",
       " 'campos novos',\n",
       " 'campos novos paulista',\n",
       " 'campos sales',\n",
       " 'campos verdes',\n",
       " 'campos de julio',\n",
       " 'campos do jordao',\n",
       " 'campos dos goitacazes',\n",
       " 'camutanga',\n",
       " 'cana verde',\n",
       " 'canabrava do norte',\n",
       " 'cananeia',\n",
       " 'canapi',\n",
       " 'canarana',\n",
       " 'canarana',\n",
       " 'canas',\n",
       " 'canavieira',\n",
       " 'canavieiras',\n",
       " 'canaa',\n",
       " 'canaa dos carajas',\n",
       " 'candeal',\n",
       " 'candeias',\n",
       " 'candeias',\n",
       " 'candeias do jamari',\n",
       " 'candelaria',\n",
       " 'candiba',\n",
       " 'candiota',\n",
       " 'candoi',\n",
       " 'canela',\n",
       " 'canelinha',\n",
       " 'canguaretama',\n",
       " 'cangucu',\n",
       " 'canhoba',\n",
       " 'canhotinho',\n",
       " 'caninde',\n",
       " 'caninde de sao francisco',\n",
       " 'canitar',\n",
       " 'canoas',\n",
       " 'canoinhas',\n",
       " 'cansancao',\n",
       " 'cantagalo',\n",
       " 'cantagalo',\n",
       " 'cantagalo',\n",
       " 'cantanhede',\n",
       " 'canto do buriti',\n",
       " 'canta',\n",
       " 'canudos',\n",
       " 'canudos do vale',\n",
       " 'canutama',\n",
       " ...]"
      ]
     },
     "execution_count": 48,
     "metadata": {},
     "output_type": "execute_result"
    }
   ],
   "source": [
    "# # Read the csv file\n",
    "# df_cities = pd.read_csv(\"cities.csv\")\n",
    "\n",
    "# # Drope the code column\n",
    "# df_cities = df_cities.drop('code', axis=1) \n",
    "\n",
    "# # standardize the writing\n",
    "# standardize_chara(df_cities, 'name')\n",
    "\n",
    "# # Define a list out of city names\n",
    "# city_names = df_cities['name'].to_list()\n",
    "# city_names"
   ]
  },
  {
   "cell_type": "code",
   "execution_count": 77,
   "metadata": {},
   "outputs": [],
   "source": [
    "# # Create a function to correct the typo w/ fuzzywuzzy\n",
    "# def correct_typo(name, reference):\n",
    "#     for correct_name in reference:\n",
    "#         percent_match_to_correct = fuzz.ratio(correct_name, name)\n",
    "#         if percent_match_to_correct > 80:\n",
    "#             name = correct_name\n",
    "#     return name"
   ]
  },
  {
   "cell_type": "code",
   "execution_count": 78,
   "metadata": {},
   "outputs": [
    {
     "data": {
      "text/plain": [
       "'sao paulo'"
      ]
     },
     "execution_count": 78,
     "metadata": {},
     "output_type": "execute_result"
    }
   ],
   "source": [
    "# # Test the function\n",
    "# name_test_1 = 'sao pauli'\n",
    "\n",
    "# name_res_1 = correct_typo(name_test_1, reference=city_names)\n",
    "# name_res_1"
   ]
  },
  {
   "cell_type": "code",
   "execution_count": 68,
   "metadata": {},
   "outputs": [
    {
     "ename": "KeyboardInterrupt",
     "evalue": "",
     "output_type": "error",
     "traceback": [
      "\u001b[0;31m---------------------------------------------------------------------------\u001b[0m",
      "\u001b[0;31mKeyboardInterrupt\u001b[0m                         Traceback (most recent call last)",
      "Cell \u001b[0;32mIn[68], line 1\u001b[0m\n\u001b[0;32m----> 1\u001b[0m df_geolocation[\u001b[39m'\u001b[39m\u001b[39mgeolocation_city\u001b[39m\u001b[39m'\u001b[39m] \u001b[39m=\u001b[39m df_geolocation[\u001b[39m'\u001b[39;49m\u001b[39mgeolocation_city\u001b[39;49m\u001b[39m'\u001b[39;49m]\u001b[39m.\u001b[39;49mapply(check_name, reference\u001b[39m=\u001b[39;49mcity_names)\n\u001b[1;32m      2\u001b[0m df_geolocation\u001b[39m.\u001b[39mvalue_counts()\n",
      "File \u001b[0;32m~/Documents/GitHub/olist-sql-and-data-wrangling/.venv/lib/python3.10/site-packages/pandas/core/series.py:4631\u001b[0m, in \u001b[0;36mSeries.apply\u001b[0;34m(self, func, convert_dtype, args, **kwargs)\u001b[0m\n\u001b[1;32m   4521\u001b[0m \u001b[39mdef\u001b[39;00m \u001b[39mapply\u001b[39m(\n\u001b[1;32m   4522\u001b[0m     \u001b[39mself\u001b[39m,\n\u001b[1;32m   4523\u001b[0m     func: AggFuncType,\n\u001b[0;32m   (...)\u001b[0m\n\u001b[1;32m   4526\u001b[0m     \u001b[39m*\u001b[39m\u001b[39m*\u001b[39mkwargs,\n\u001b[1;32m   4527\u001b[0m ) \u001b[39m-\u001b[39m\u001b[39m>\u001b[39m DataFrame \u001b[39m|\u001b[39m Series:\n\u001b[1;32m   4528\u001b[0m \u001b[39m    \u001b[39m\u001b[39m\"\"\"\u001b[39;00m\n\u001b[1;32m   4529\u001b[0m \u001b[39m    Invoke function on values of Series.\u001b[39;00m\n\u001b[1;32m   4530\u001b[0m \n\u001b[0;32m   (...)\u001b[0m\n\u001b[1;32m   4629\u001b[0m \u001b[39m    dtype: float64\u001b[39;00m\n\u001b[1;32m   4630\u001b[0m \u001b[39m    \"\"\"\u001b[39;00m\n\u001b[0;32m-> 4631\u001b[0m     \u001b[39mreturn\u001b[39;00m SeriesApply(\u001b[39mself\u001b[39;49m, func, convert_dtype, args, kwargs)\u001b[39m.\u001b[39;49mapply()\n",
      "File \u001b[0;32m~/Documents/GitHub/olist-sql-and-data-wrangling/.venv/lib/python3.10/site-packages/pandas/core/apply.py:1025\u001b[0m, in \u001b[0;36mSeriesApply.apply\u001b[0;34m(self)\u001b[0m\n\u001b[1;32m   1022\u001b[0m     \u001b[39mreturn\u001b[39;00m \u001b[39mself\u001b[39m\u001b[39m.\u001b[39mapply_str()\n\u001b[1;32m   1024\u001b[0m \u001b[39m# self.f is Callable\u001b[39;00m\n\u001b[0;32m-> 1025\u001b[0m \u001b[39mreturn\u001b[39;00m \u001b[39mself\u001b[39;49m\u001b[39m.\u001b[39;49mapply_standard()\n",
      "File \u001b[0;32m~/Documents/GitHub/olist-sql-and-data-wrangling/.venv/lib/python3.10/site-packages/pandas/core/apply.py:1076\u001b[0m, in \u001b[0;36mSeriesApply.apply_standard\u001b[0;34m(self)\u001b[0m\n\u001b[1;32m   1074\u001b[0m     \u001b[39melse\u001b[39;00m:\n\u001b[1;32m   1075\u001b[0m         values \u001b[39m=\u001b[39m obj\u001b[39m.\u001b[39mastype(\u001b[39mobject\u001b[39m)\u001b[39m.\u001b[39m_values\n\u001b[0;32m-> 1076\u001b[0m         mapped \u001b[39m=\u001b[39m lib\u001b[39m.\u001b[39;49mmap_infer(\n\u001b[1;32m   1077\u001b[0m             values,\n\u001b[1;32m   1078\u001b[0m             f,\n\u001b[1;32m   1079\u001b[0m             convert\u001b[39m=\u001b[39;49m\u001b[39mself\u001b[39;49m\u001b[39m.\u001b[39;49mconvert_dtype,\n\u001b[1;32m   1080\u001b[0m         )\n\u001b[1;32m   1082\u001b[0m \u001b[39mif\u001b[39;00m \u001b[39mlen\u001b[39m(mapped) \u001b[39mand\u001b[39;00m \u001b[39misinstance\u001b[39m(mapped[\u001b[39m0\u001b[39m], ABCSeries):\n\u001b[1;32m   1083\u001b[0m     \u001b[39m# GH#43986 Need to do list(mapped) in order to get treated as nested\u001b[39;00m\n\u001b[1;32m   1084\u001b[0m     \u001b[39m#  See also GH#25959 regarding EA support\u001b[39;00m\n\u001b[1;32m   1085\u001b[0m     \u001b[39mreturn\u001b[39;00m obj\u001b[39m.\u001b[39m_constructor_expanddim(\u001b[39mlist\u001b[39m(mapped), index\u001b[39m=\u001b[39mobj\u001b[39m.\u001b[39mindex)\n",
      "File \u001b[0;32m~/Documents/GitHub/olist-sql-and-data-wrangling/.venv/lib/python3.10/site-packages/pandas/_libs/lib.pyx:2834\u001b[0m, in \u001b[0;36mpandas._libs.lib.map_infer\u001b[0;34m()\u001b[0m\n",
      "File \u001b[0;32m~/Documents/GitHub/olist-sql-and-data-wrangling/.venv/lib/python3.10/site-packages/pandas/core/apply.py:133\u001b[0m, in \u001b[0;36mApply.__init__.<locals>.f\u001b[0;34m(x)\u001b[0m\n\u001b[1;32m    132\u001b[0m \u001b[39mdef\u001b[39;00m \u001b[39mf\u001b[39m(x):\n\u001b[0;32m--> 133\u001b[0m     \u001b[39mreturn\u001b[39;00m func(x, \u001b[39m*\u001b[39;49margs, \u001b[39m*\u001b[39;49m\u001b[39m*\u001b[39;49mkwargs)\n",
      "Cell \u001b[0;32mIn[62], line 3\u001b[0m, in \u001b[0;36mcheck_name\u001b[0;34m(name_in_question, reference)\u001b[0m\n\u001b[1;32m      1\u001b[0m \u001b[39mdef\u001b[39;00m \u001b[39mcheck_name\u001b[39m(name_in_question, reference):\n\u001b[1;32m      2\u001b[0m     \u001b[39mfor\u001b[39;00m city_name \u001b[39min\u001b[39;00m reference:\n\u001b[0;32m----> 3\u001b[0m         percent_match_to_change \u001b[39m=\u001b[39m fuzz\u001b[39m.\u001b[39;49mratio(city_name, name_in_question)\n\u001b[1;32m      4\u001b[0m         \u001b[39mif\u001b[39;00m percent_match_to_change \u001b[39m>\u001b[39m \u001b[39m80\u001b[39m:\n\u001b[1;32m      5\u001b[0m             name_in_question \u001b[39m=\u001b[39m city_name\n",
      "File \u001b[0;32m~/Documents/GitHub/olist-sql-and-data-wrangling/.venv/lib/python3.10/site-packages/fuzzywuzzy/utils.py:38\u001b[0m, in \u001b[0;36mcheck_for_none.<locals>.decorator\u001b[0;34m(*args, **kwargs)\u001b[0m\n\u001b[1;32m     36\u001b[0m \u001b[39mif\u001b[39;00m args[\u001b[39m0\u001b[39m] \u001b[39mis\u001b[39;00m \u001b[39mNone\u001b[39;00m \u001b[39mor\u001b[39;00m args[\u001b[39m1\u001b[39m] \u001b[39mis\u001b[39;00m \u001b[39mNone\u001b[39;00m:\n\u001b[1;32m     37\u001b[0m     \u001b[39mreturn\u001b[39;00m \u001b[39m0\u001b[39m\n\u001b[0;32m---> 38\u001b[0m \u001b[39mreturn\u001b[39;00m func(\u001b[39m*\u001b[39;49margs, \u001b[39m*\u001b[39;49m\u001b[39m*\u001b[39;49mkwargs)\n",
      "File \u001b[0;32m~/Documents/GitHub/olist-sql-and-data-wrangling/.venv/lib/python3.10/site-packages/fuzzywuzzy/utils.py:29\u001b[0m, in \u001b[0;36mcheck_for_equivalence.<locals>.decorator\u001b[0;34m(*args, **kwargs)\u001b[0m\n\u001b[1;32m     27\u001b[0m \u001b[39mif\u001b[39;00m args[\u001b[39m0\u001b[39m] \u001b[39m==\u001b[39m args[\u001b[39m1\u001b[39m]:\n\u001b[1;32m     28\u001b[0m     \u001b[39mreturn\u001b[39;00m \u001b[39m100\u001b[39m\n\u001b[0;32m---> 29\u001b[0m \u001b[39mreturn\u001b[39;00m func(\u001b[39m*\u001b[39;49margs, \u001b[39m*\u001b[39;49m\u001b[39m*\u001b[39;49mkwargs)\n",
      "File \u001b[0;32m~/Documents/GitHub/olist-sql-and-data-wrangling/.venv/lib/python3.10/site-packages/fuzzywuzzy/utils.py:47\u001b[0m, in \u001b[0;36mcheck_empty_string.<locals>.decorator\u001b[0;34m(*args, **kwargs)\u001b[0m\n\u001b[1;32m     45\u001b[0m \u001b[39mif\u001b[39;00m \u001b[39mlen\u001b[39m(args[\u001b[39m0\u001b[39m]) \u001b[39m==\u001b[39m \u001b[39m0\u001b[39m \u001b[39mor\u001b[39;00m \u001b[39mlen\u001b[39m(args[\u001b[39m1\u001b[39m]) \u001b[39m==\u001b[39m \u001b[39m0\u001b[39m:\n\u001b[1;32m     46\u001b[0m     \u001b[39mreturn\u001b[39;00m \u001b[39m0\u001b[39m\n\u001b[0;32m---> 47\u001b[0m \u001b[39mreturn\u001b[39;00m func(\u001b[39m*\u001b[39;49margs, \u001b[39m*\u001b[39;49m\u001b[39m*\u001b[39;49mkwargs)\n",
      "File \u001b[0;32m~/Documents/GitHub/olist-sql-and-data-wrangling/.venv/lib/python3.10/site-packages/fuzzywuzzy/fuzz.py:28\u001b[0m, in \u001b[0;36mratio\u001b[0;34m(s1, s2)\u001b[0m\n\u001b[1;32m     25\u001b[0m s1, s2 \u001b[39m=\u001b[39m utils\u001b[39m.\u001b[39mmake_type_consistent(s1, s2)\n\u001b[1;32m     27\u001b[0m m \u001b[39m=\u001b[39m SequenceMatcher(\u001b[39mNone\u001b[39;00m, s1, s2)\n\u001b[0;32m---> 28\u001b[0m \u001b[39mreturn\u001b[39;00m utils\u001b[39m.\u001b[39mintr(\u001b[39m100\u001b[39m \u001b[39m*\u001b[39m m\u001b[39m.\u001b[39;49mratio())\n",
      "File \u001b[0;32m/Library/Frameworks/Python.framework/Versions/3.10/lib/python3.10/difflib.py:619\u001b[0m, in \u001b[0;36mSequenceMatcher.ratio\u001b[0;34m(self)\u001b[0m\n\u001b[1;32m    597\u001b[0m \u001b[39mdef\u001b[39;00m \u001b[39mratio\u001b[39m(\u001b[39mself\u001b[39m):\n\u001b[1;32m    598\u001b[0m \u001b[39m    \u001b[39m\u001b[39m\"\"\"Return a measure of the sequences' similarity (float in [0,1]).\u001b[39;00m\n\u001b[1;32m    599\u001b[0m \n\u001b[1;32m    600\u001b[0m \u001b[39m    Where T is the total number of elements in both sequences, and\u001b[39;00m\n\u001b[0;32m   (...)\u001b[0m\n\u001b[1;32m    616\u001b[0m \u001b[39m    1.0\u001b[39;00m\n\u001b[1;32m    617\u001b[0m \u001b[39m    \"\"\"\u001b[39;00m\n\u001b[0;32m--> 619\u001b[0m     matches \u001b[39m=\u001b[39m \u001b[39msum\u001b[39m(triple[\u001b[39m-\u001b[39m\u001b[39m1\u001b[39m] \u001b[39mfor\u001b[39;00m triple \u001b[39min\u001b[39;00m \u001b[39mself\u001b[39;49m\u001b[39m.\u001b[39;49mget_matching_blocks())\n\u001b[1;32m    620\u001b[0m     \u001b[39mreturn\u001b[39;00m _calculate_ratio(matches, \u001b[39mlen\u001b[39m(\u001b[39mself\u001b[39m\u001b[39m.\u001b[39ma) \u001b[39m+\u001b[39m \u001b[39mlen\u001b[39m(\u001b[39mself\u001b[39m\u001b[39m.\u001b[39mb))\n",
      "File \u001b[0;32m/Library/Frameworks/Python.framework/Versions/3.10/lib/python3.10/difflib.py:454\u001b[0m, in \u001b[0;36mSequenceMatcher.get_matching_blocks\u001b[0;34m(self)\u001b[0m\n\u001b[1;32m    452\u001b[0m \u001b[39mwhile\u001b[39;00m queue:\n\u001b[1;32m    453\u001b[0m     alo, ahi, blo, bhi \u001b[39m=\u001b[39m queue\u001b[39m.\u001b[39mpop()\n\u001b[0;32m--> 454\u001b[0m     i, j, k \u001b[39m=\u001b[39m x \u001b[39m=\u001b[39m \u001b[39mself\u001b[39;49m\u001b[39m.\u001b[39;49mfind_longest_match(alo, ahi, blo, bhi)\n\u001b[1;32m    455\u001b[0m     \u001b[39m# a[alo:i] vs b[blo:j] unknown\u001b[39;00m\n\u001b[1;32m    456\u001b[0m     \u001b[39m# a[i:i+k] same as b[j:j+k]\u001b[39;00m\n\u001b[1;32m    457\u001b[0m     \u001b[39m# a[i+k:ahi] vs b[j+k:bhi] unknown\u001b[39;00m\n\u001b[1;32m    458\u001b[0m     \u001b[39mif\u001b[39;00m k:   \u001b[39m# if k is 0, there was no matching block\u001b[39;00m\n",
      "File \u001b[0;32m/Library/Frameworks/Python.framework/Versions/3.10/lib/python3.10/difflib.py:379\u001b[0m, in \u001b[0;36mSequenceMatcher.find_longest_match\u001b[0;34m(self, alo, ahi, blo, bhi)\u001b[0m\n\u001b[1;32m    377\u001b[0m j2lenget \u001b[39m=\u001b[39m j2len\u001b[39m.\u001b[39mget\n\u001b[1;32m    378\u001b[0m newj2len \u001b[39m=\u001b[39m {}\n\u001b[0;32m--> 379\u001b[0m \u001b[39mfor\u001b[39;00m j \u001b[39min\u001b[39;00m b2j\u001b[39m.\u001b[39;49mget(a[i], nothing):\n\u001b[1;32m    380\u001b[0m     \u001b[39m# a[i] matches b[j]\u001b[39;00m\n\u001b[1;32m    381\u001b[0m     \u001b[39mif\u001b[39;00m j \u001b[39m<\u001b[39m blo:\n\u001b[1;32m    382\u001b[0m         \u001b[39mcontinue\u001b[39;00m\n",
      "\u001b[0;31mKeyboardInterrupt\u001b[0m: "
     ]
    }
   ],
   "source": [
    "# df_geolocation['geolocation_city'] = df_geolocation['geolocation_city'].apply(correct_typo, reference=city_names)"
   ]
  },
  {
   "cell_type": "code",
   "execution_count": 69,
   "metadata": {},
   "outputs": [],
   "source": [
    "# df_geolocation.to_csv('df_geolocation_test.csv')"
   ]
  },
  {
   "attachments": {},
   "cell_type": "markdown",
   "metadata": {},
   "source": [
    "# 6. Analyzing Data"
   ]
  },
  {
   "cell_type": "markdown",
   "metadata": {},
   "source": []
  }
 ],
 "metadata": {
  "kernelspec": {
   "display_name": "venv",
   "language": "python",
   "name": "python3"
  },
  "language_info": {
   "codemirror_mode": {
    "name": "ipython",
    "version": 3
   },
   "file_extension": ".py",
   "mimetype": "text/x-python",
   "name": "python",
   "nbconvert_exporter": "python",
   "pygments_lexer": "ipython3",
   "version": "3.10.5"
  },
  "orig_nbformat": 4
 },
 "nbformat": 4,
 "nbformat_minor": 2
}
